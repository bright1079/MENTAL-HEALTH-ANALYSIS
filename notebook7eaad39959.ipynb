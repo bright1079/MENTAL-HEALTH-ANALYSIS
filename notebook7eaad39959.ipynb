{
 "cells": [
  {
   "cell_type": "markdown",
   "id": "78b8efc6",
   "metadata": {
    "execution": {
     "iopub.execute_input": "2022-10-07T15:14:43.363963Z",
     "iopub.status.busy": "2022-10-07T15:14:43.363391Z",
     "iopub.status.idle": "2022-10-07T15:14:43.393899Z",
     "shell.execute_reply": "2022-10-07T15:14:43.392379Z",
     "shell.execute_reply.started": "2022-10-07T15:14:43.363851Z"
    },
    "papermill": {
     "duration": 0.016327,
     "end_time": "2023-01-14T19:15:54.723469",
     "exception": false,
     "start_time": "2023-01-14T19:15:54.707142",
     "status": "completed"
    },
    "tags": []
   },
   "source": [
    "<h1 style= \"color:black; font-size:392%\"> MENTAL HEALTH CARE <b style=\"color:blue\">EDA</b> IN THE USA FOR A PERIOD OF 4 WEEKS </h1>\n",
    "<h2 style=\"color:black\">BACKGROUND</h2> \n",
    "<b> The dataset used for this exploratory data analysis was obtained from <a href=\"https://data.cdc.gov/NCHS/Mental-Health-Care-in-the-Last-4-Weeks/yni7-er2q\">data.gov.cdc</a> </b> "
   ]
  },
  {
   "cell_type": "markdown",
   "id": "841d0aeb",
   "metadata": {
    "papermill": {
     "duration": 0.016251,
     "end_time": "2023-01-14T19:15:54.754262",
     "exception": false,
     "start_time": "2023-01-14T19:15:54.738011",
     "status": "completed"
    },
    "tags": []
   },
   "source": [
    "<div style=\"color:white;\n",
    "           display:fill;\n",
    "           border-radius:5px;\n",
    "           background-color:#5642C5;\n",
    "           font-size:210%;\n",
    "           font-family:Verdana;\n",
    "           letter-spacing:0.5px\">\n",
    "\n",
    "<p style=\"padding: 40px;\n",
    "              color:white;\">\n",
    "IMPORT RELEVANT LIBRARIES\n",
    "</p>\n",
    "</div>\n"
   ]
  },
  {
   "cell_type": "code",
   "execution_count": 1,
   "id": "644b7a45",
   "metadata": {
    "execution": {
     "iopub.execute_input": "2023-01-14T19:15:54.785744Z",
     "iopub.status.busy": "2023-01-14T19:15:54.784912Z",
     "iopub.status.idle": "2023-01-14T19:15:56.092351Z",
     "shell.execute_reply": "2023-01-14T19:15:56.091281Z"
    },
    "papermill": {
     "duration": 1.326709,
     "end_time": "2023-01-14T19:15:56.095231",
     "exception": false,
     "start_time": "2023-01-14T19:15:54.768522",
     "status": "completed"
    },
    "tags": []
   },
   "outputs": [],
   "source": [
    "import numpy as np\n",
    "import pandas as pd\n",
    "import matplotlib.pyplot as plt\n",
    "import seaborn as sns\n",
    "from sklearn.linear_model import LinearRegression, BayesianRidge\n",
    "import warnings\n",
    "warnings.filterwarnings(\"ignore\")"
   ]
  },
  {
   "cell_type": "code",
   "execution_count": 2,
   "id": "23af0609",
   "metadata": {
    "execution": {
     "iopub.execute_input": "2023-01-14T19:15:56.126103Z",
     "iopub.status.busy": "2023-01-14T19:15:56.125468Z",
     "iopub.status.idle": "2023-01-14T19:15:56.750703Z",
     "shell.execute_reply": "2023-01-14T19:15:56.749057Z"
    },
    "papermill": {
     "duration": 0.645573,
     "end_time": "2023-01-14T19:15:56.755239",
     "exception": false,
     "start_time": "2023-01-14T19:15:56.109666",
     "status": "completed"
    },
    "tags": []
   },
   "outputs": [
    {
     "data": {
      "image/png": "[encoded data removed]",
      "text/plain": [
       "<Figure size 720x72 with 1 Axes>"
      ]
     },
     "metadata": {
      "needs_background": "light"
     },
     "output_type": "display_data"
    },
    {
     "data": {
      "image/png": "[encoded data removed]",
      "text/plain": [
       "<Figure size 720x72 with 1 Axes>"
      ]
     },
     "metadata": {
      "needs_background": "light"
     },
     "output_type": "display_data"
    },
    {
     "data": {
      "image/png": "[encoded data removed]",
      "text/plain": [
       "<Figure size 720x72 with 1 Axes>"
      ]
     },
     "metadata": {
      "needs_background": "light"
     },
     "output_type": "display_data"
    },
    {
     "data": {
      "image/png": "[encoded data removed]",
      "text/plain": [
       "<Figure size 720x72 with 1 Axes>"
      ]
     },
     "metadata": {
      "needs_background": "light"
     },
     "output_type": "display_data"
    },
    {
     "data": {
      "image/png": "[encoded data removed]",
      "text/plain": [
       "<Figure size 720x72 with 1 Axes>"
      ]
     },
     "metadata": {
      "needs_background": "light"
     },
     "output_type": "display_data"
    }
   ],
   "source": [
    "deep=sns.set_palette(\"deep\")\n",
    "muted=sns.set_palette(\"muted\")\n",
    "dark=sns.set_palette(\"dark\")\n",
    "pastel=sns.set_palette(\"pastel\")\n",
    "colorblind=sns.set_palette(\"colorblind\")\n",
    "bright=sns.set_palette(\"bright\")\n",
    "\n",
    "deep=sns.color_palette(\"deep\")\n",
    "muted=sns.color_palette(\"muted\")\n",
    "dark=sns.color_palette(\"dark\")\n",
    "pastel=sns.color_palette(\"pastel\")\n",
    "colorblind=sns.color_palette(\"colorblind\")\n",
    "bright=sns.color_palette(\"bright\")\n",
    "sns.palplot(deep)\n",
    "sns.palplot(muted)\n",
    "sns.palplot(dark)\n",
    "sns.palplot(pastel)\n",
    "sns.palplot(bright)\n"
   ]
  },
  {
   "cell_type": "markdown",
   "id": "34e616ca",
   "metadata": {
    "papermill": {
     "duration": 0.038837,
     "end_time": "2023-01-14T19:15:56.833287",
     "exception": false,
     "start_time": "2023-01-14T19:15:56.794450",
     "status": "completed"
    },
    "tags": []
   },
   "source": [
    "<div style=\"color:white;\n",
    "           display:fill;\n",
    "           border-radius:5px;\n",
    "           background-color:#5642C5;\n",
    "           font-size:210%;\n",
    "           font-family:Verdana;\n",
    "           letter-spacing:0.5px\">\n",
    "\n",
    "<p style=\"padding: 20px;\n",
    "              color:white;\">\n",
    "READ DATASET\n",
    "</p>"
   ]
  },
  {
   "cell_type": "markdown",
   "id": "7fc25a30",
   "metadata": {
    "papermill": {
     "duration": 0.014401,
     "end_time": "2023-01-14T19:15:56.864632",
     "exception": false,
     "start_time": "2023-01-14T19:15:56.850231",
     "status": "completed"
    },
    "tags": []
   },
   "source": [
    "<h1 style=\"color:blue\"; font-size=Reading the csv file and getting the summary"
   ]
  },
  {
   "cell_type": "code",
   "execution_count": 3,
   "id": "2543acc1",
   "metadata": {
    "execution": {
     "iopub.execute_input": "2023-01-14T19:15:56.896671Z",
     "iopub.status.busy": "2023-01-14T19:15:56.896001Z",
     "iopub.status.idle": "2023-01-14T19:15:57.006435Z",
     "shell.execute_reply": "2023-01-14T19:15:57.004838Z"
    },
    "papermill": {
     "duration": 0.131078,
     "end_time": "2023-01-14T19:15:57.010498",
     "exception": false,
     "start_time": "2023-01-14T19:15:56.879420",
     "status": "completed"
    },
    "tags": []
   },
   "outputs": [
    {
     "data": {
      "text/html": [
       "<div>\n",
       "<style scoped>\n",
       "    .dataframe tbody tr th:only-of-type {\n",
       "        vertical-align: middle;\n",
       "    }\n",
       "\n",
       "    .dataframe tbody tr th {\n",
       "        vertical-align: top;\n",
       "    }\n",
       "\n",
       "    .dataframe thead th {\n",
       "        text-align: right;\n",
       "    }\n",
       "</style>\n",
       "<table border=\"1\" class=\"dataframe\">\n",
       "  <thead>\n",
       "    <tr style=\"text-align: right;\">\n",
       "      <th></th>\n",
       "      <th>Indicator</th>\n",
       "      <th>Group</th>\n",
       "      <th>State</th>\n",
       "      <th>Subgroup</th>\n",
       "      <th>Phase</th>\n",
       "      <th>Time Period</th>\n",
       "      <th>Time Period Label</th>\n",
       "      <th>Time Period Start Date</th>\n",
       "      <th>Time Period End Date</th>\n",
       "      <th>Value</th>\n",
       "      <th>LowCI</th>\n",
       "      <th>HighCI</th>\n",
       "      <th>Confidence Interval</th>\n",
       "      <th>Quartile Range</th>\n",
       "      <th>Suppression Flag</th>\n",
       "    </tr>\n",
       "  </thead>\n",
       "  <tbody>\n",
       "    <tr>\n",
       "      <th>0</th>\n",
       "      <td>Took Prescription Medication for Mental Health...</td>\n",
       "      <td>National Estimate</td>\n",
       "      <td>United States</td>\n",
       "      <td>United States</td>\n",
       "      <td>2</td>\n",
       "      <td>13</td>\n",
       "      <td>Aug 19 - Aug 31, 2020</td>\n",
       "      <td>08/19/2020</td>\n",
       "      <td>08/31/2020</td>\n",
       "      <td>19.4</td>\n",
       "      <td>19.0</td>\n",
       "      <td>19.8</td>\n",
       "      <td>19.0 - 19.8</td>\n",
       "      <td>NaN</td>\n",
       "      <td>NaN</td>\n",
       "    </tr>\n",
       "    <tr>\n",
       "      <th>1</th>\n",
       "      <td>Took Prescription Medication for Mental Health...</td>\n",
       "      <td>By Age</td>\n",
       "      <td>United States</td>\n",
       "      <td>18 - 29 years</td>\n",
       "      <td>2</td>\n",
       "      <td>13</td>\n",
       "      <td>Aug 19 - Aug 31, 2020</td>\n",
       "      <td>08/19/2020</td>\n",
       "      <td>08/31/2020</td>\n",
       "      <td>18.7</td>\n",
       "      <td>17.2</td>\n",
       "      <td>20.3</td>\n",
       "      <td>17.2 - 20.3</td>\n",
       "      <td>NaN</td>\n",
       "      <td>NaN</td>\n",
       "    </tr>\n",
       "    <tr>\n",
       "      <th>2</th>\n",
       "      <td>Took Prescription Medication for Mental Health...</td>\n",
       "      <td>By Age</td>\n",
       "      <td>United States</td>\n",
       "      <td>30 - 39 years</td>\n",
       "      <td>2</td>\n",
       "      <td>13</td>\n",
       "      <td>Aug 19 - Aug 31, 2020</td>\n",
       "      <td>08/19/2020</td>\n",
       "      <td>08/31/2020</td>\n",
       "      <td>18.3</td>\n",
       "      <td>17.3</td>\n",
       "      <td>19.2</td>\n",
       "      <td>17.3 - 19.2</td>\n",
       "      <td>NaN</td>\n",
       "      <td>NaN</td>\n",
       "    </tr>\n",
       "    <tr>\n",
       "      <th>3</th>\n",
       "      <td>Took Prescription Medication for Mental Health...</td>\n",
       "      <td>By Age</td>\n",
       "      <td>United States</td>\n",
       "      <td>40 - 49 years</td>\n",
       "      <td>2</td>\n",
       "      <td>13</td>\n",
       "      <td>Aug 19 - Aug 31, 2020</td>\n",
       "      <td>08/19/2020</td>\n",
       "      <td>08/31/2020</td>\n",
       "      <td>20.4</td>\n",
       "      <td>19.5</td>\n",
       "      <td>21.3</td>\n",
       "      <td>19.5 - 21.3</td>\n",
       "      <td>NaN</td>\n",
       "      <td>NaN</td>\n",
       "    </tr>\n",
       "    <tr>\n",
       "      <th>4</th>\n",
       "      <td>Took Prescription Medication for Mental Health...</td>\n",
       "      <td>By Age</td>\n",
       "      <td>United States</td>\n",
       "      <td>50 - 59 years</td>\n",
       "      <td>2</td>\n",
       "      <td>13</td>\n",
       "      <td>Aug 19 - Aug 31, 2020</td>\n",
       "      <td>08/19/2020</td>\n",
       "      <td>08/31/2020</td>\n",
       "      <td>21.2</td>\n",
       "      <td>20.2</td>\n",
       "      <td>22.2</td>\n",
       "      <td>20.2 - 22.2</td>\n",
       "      <td>NaN</td>\n",
       "      <td>NaN</td>\n",
       "    </tr>\n",
       "  </tbody>\n",
       "</table>\n",
       "</div>"
      ],
      "text/plain": [
       "                                           Indicator              Group  \\\n",
       "0  Took Prescription Medication for Mental Health...  National Estimate   \n",
       "1  Took Prescription Medication for Mental Health...             By Age   \n",
       "2  Took Prescription Medication for Mental Health...             By Age   \n",
       "3  Took Prescription Medication for Mental Health...             By Age   \n",
       "4  Took Prescription Medication for Mental Health...             By Age   \n",
       "\n",
       "           State       Subgroup Phase  Time Period      Time Period Label  \\\n",
       "0  United States  United States     2           13  Aug 19 - Aug 31, 2020   \n",
       "1  United States  18 - 29 years     2           13  Aug 19 - Aug 31, 2020   \n",
       "2  United States  30 - 39 years     2           13  Aug 19 - Aug 31, 2020   \n",
       "3  United States  40 - 49 years     2           13  Aug 19 - Aug 31, 2020   \n",
       "4  United States  50 - 59 years     2           13  Aug 19 - Aug 31, 2020   \n",
       "\n",
       "  Time Period Start Date Time Period End Date  Value  LowCI  HighCI  \\\n",
       "0             08/19/2020           08/31/2020   19.4   19.0    19.8   \n",
       "1             08/19/2020           08/31/2020   18.7   17.2    20.3   \n",
       "2             08/19/2020           08/31/2020   18.3   17.3    19.2   \n",
       "3             08/19/2020           08/31/2020   20.4   19.5    21.3   \n",
       "4             08/19/2020           08/31/2020   21.2   20.2    22.2   \n",
       "\n",
       "  Confidence Interval Quartile Range  Suppression Flag  \n",
       "0         19.0 - 19.8            NaN               NaN  \n",
       "1         17.2 - 20.3            NaN               NaN  \n",
       "2         17.3 - 19.2            NaN               NaN  \n",
       "3         19.5 - 21.3            NaN               NaN  \n",
       "4         20.2 - 22.2            NaN               NaN  "
      ]
     },
     "execution_count": 3,
     "metadata": {},
     "output_type": "execute_result"
    }
   ],
   "source": [
    "HealthData=pd.read_csv(\"../input/mentalhealth/Mental_Health_Care_in_the_Last_4_Weeks.csv\")\n",
    "HealthData.head()"
   ]
  },
  {
   "cell_type": "markdown",
   "id": "09ff2676",
   "metadata": {
    "papermill": {
     "duration": 0.020657,
     "end_time": "2023-01-14T19:15:57.057686",
     "exception": false,
     "start_time": "2023-01-14T19:15:57.037029",
     "status": "completed"
    },
    "tags": []
   },
   "source": [
    " <h1 style=\"color:blue\"; font-size:100%\">INSPECT DATA:</h1> "
   ]
  },
  {
   "cell_type": "markdown",
   "id": "80b17163",
   "metadata": {
    "papermill": {
     "duration": 0.016058,
     "end_time": "2023-01-14T19:15:57.091024",
     "exception": false,
     "start_time": "2023-01-14T19:15:57.074966",
     "status": "completed"
    },
    "tags": []
   },
   "source": [
    " <h1 style=\"color:blue; font-size:150%\">Database Dimension and Size:</h1> "
   ]
  },
  {
   "cell_type": "code",
   "execution_count": 4,
   "id": "89f970d0",
   "metadata": {
    "execution": {
     "iopub.execute_input": "2023-01-14T19:15:57.124770Z",
     "iopub.status.busy": "2023-01-14T19:15:57.123933Z",
     "iopub.status.idle": "2023-01-14T19:15:57.130305Z",
     "shell.execute_reply": "2023-01-14T19:15:57.128899Z"
    },
    "papermill": {
     "duration": 0.025716,
     "end_time": "2023-01-14T19:15:57.132657",
     "exception": false,
     "start_time": "2023-01-14T19:15:57.106941",
     "status": "completed"
    },
    "tags": []
   },
   "outputs": [
    {
     "name": "stdout",
     "output_type": "stream",
     "text": [
      "Database dimension is  (10404, 15)\n",
      "Database size is  156060\n"
     ]
    }
   ],
   "source": [
    "# Database dimension\n",
    "print(\"Database dimension is \", HealthData.shape)\n",
    "\n",
    "# Database size\n",
    "print(\"Database size is \", HealthData.size)"
   ]
  },
  {
   "cell_type": "markdown",
   "id": "c38ca74e",
   "metadata": {
    "papermill": {
     "duration": 0.01641,
     "end_time": "2023-01-14T19:15:57.164442",
     "exception": false,
     "start_time": "2023-01-14T19:15:57.148032",
     "status": "completed"
    },
    "tags": []
   },
   "source": [
    " <h1 style=\"color:blue; font-size:150%\">Database Column Type :</h1> "
   ]
  },
  {
   "cell_type": "markdown",
   "id": "1c68009b",
   "metadata": {
    "papermill": {
     "duration": 0.015602,
     "end_time": "2023-01-14T19:15:57.196076",
     "exception": false,
     "start_time": "2023-01-14T19:15:57.180474",
     "status": "completed"
    },
    "tags": []
   },
   "source": [
    "<h1 style=\"color:tomato; font-size:"
   ]
  },
  {
   "cell_type": "code",
   "execution_count": 5,
   "id": "5e825145",
   "metadata": {
    "execution": {
     "iopub.execute_input": "2023-01-14T19:15:57.229951Z",
     "iopub.status.busy": "2023-01-14T19:15:57.229538Z",
     "iopub.status.idle": "2023-01-14T19:15:57.260638Z",
     "shell.execute_reply": "2023-01-14T19:15:57.259450Z"
    },
    "papermill": {
     "duration": 0.052088,
     "end_time": "2023-01-14T19:15:57.264273",
     "exception": false,
     "start_time": "2023-01-14T19:15:57.212185",
     "status": "completed"
    },
    "tags": []
   },
   "outputs": [
    {
     "name": "stdout",
     "output_type": "stream",
     "text": [
      "<class 'pandas.core.frame.DataFrame'>\n",
      "RangeIndex: 10404 entries, 0 to 10403\n",
      "Data columns (total 15 columns):\n",
      " #   Column                  Non-Null Count  Dtype  \n",
      "---  ------                  --------------  -----  \n",
      " 0   Indicator               10404 non-null  object \n",
      " 1   Group                   10404 non-null  object \n",
      " 2   State                   10404 non-null  object \n",
      " 3   Subgroup                10404 non-null  object \n",
      " 4   Phase                   10404 non-null  object \n",
      " 5   Time Period             10404 non-null  int64  \n",
      " 6   Time Period Label       10404 non-null  object \n",
      " 7   Time Period Start Date  10404 non-null  object \n",
      " 8   Time Period End Date    10404 non-null  object \n",
      " 9   Value                   9914 non-null   float64\n",
      " 10  LowCI                   9914 non-null   float64\n",
      " 11  HighCI                  9914 non-null   float64\n",
      " 12  Confidence Interval     9914 non-null   object \n",
      " 13  Quartile Range          6732 non-null   object \n",
      " 14  Suppression Flag        22 non-null     float64\n",
      "dtypes: float64(4), int64(1), object(10)\n",
      "memory usage: 1.2+ MB\n"
     ]
    }
   ],
   "source": [
    "# Database column type\n",
    "HealthData.info()"
   ]
  },
  {
   "cell_type": "markdown",
   "id": "18bbe0c4",
   "metadata": {
    "papermill": {
     "duration": 0.015129,
     "end_time": "2023-01-14T19:15:57.295761",
     "exception": false,
     "start_time": "2023-01-14T19:15:57.280632",
     "status": "completed"
    },
    "tags": []
   },
   "source": [
    " <h1 style=\"color:blue; font-size:150%\">Checking for the Numerical Variables of the Dataframe and the summary:</h1> \n",
    "\n",
    "\n",
    " \n"
   ]
  },
  {
   "cell_type": "code",
   "execution_count": 6,
   "id": "922dcd8e",
   "metadata": {
    "execution": {
     "iopub.execute_input": "2023-01-14T19:15:57.328672Z",
     "iopub.status.busy": "2023-01-14T19:15:57.327918Z",
     "iopub.status.idle": "2023-01-14T19:15:57.359504Z",
     "shell.execute_reply": "2023-01-14T19:15:57.358348Z"
    },
    "papermill": {
     "duration": 0.050937,
     "end_time": "2023-01-14T19:15:57.362006",
     "exception": false,
     "start_time": "2023-01-14T19:15:57.311069",
     "status": "completed"
    },
    "tags": []
   },
   "outputs": [
    {
     "data": {
      "text/html": [
       "<div>\n",
       "<style scoped>\n",
       "    .dataframe tbody tr th:only-of-type {\n",
       "        vertical-align: middle;\n",
       "    }\n",
       "\n",
       "    .dataframe tbody tr th {\n",
       "        vertical-align: top;\n",
       "    }\n",
       "\n",
       "    .dataframe thead th {\n",
       "        text-align: right;\n",
       "    }\n",
       "</style>\n",
       "<table border=\"1\" class=\"dataframe\">\n",
       "  <thead>\n",
       "    <tr style=\"text-align: right;\">\n",
       "      <th></th>\n",
       "      <th>Time Period</th>\n",
       "      <th>Value</th>\n",
       "      <th>LowCI</th>\n",
       "      <th>HighCI</th>\n",
       "      <th>Suppression Flag</th>\n",
       "    </tr>\n",
       "  </thead>\n",
       "  <tbody>\n",
       "    <tr>\n",
       "      <th>count</th>\n",
       "      <td>10404.000000</td>\n",
       "      <td>9914.000000</td>\n",
       "      <td>9914.000000</td>\n",
       "      <td>9914.000000</td>\n",
       "      <td>22.0</td>\n",
       "    </tr>\n",
       "    <tr>\n",
       "      <th>mean</th>\n",
       "      <td>28.134948</td>\n",
       "      <td>17.430190</td>\n",
       "      <td>14.757353</td>\n",
       "      <td>20.449818</td>\n",
       "      <td>1.0</td>\n",
       "    </tr>\n",
       "    <tr>\n",
       "      <th>std</th>\n",
       "      <td>11.040210</td>\n",
       "      <td>8.208126</td>\n",
       "      <td>7.627376</td>\n",
       "      <td>8.956888</td>\n",
       "      <td>0.0</td>\n",
       "    </tr>\n",
       "    <tr>\n",
       "      <th>min</th>\n",
       "      <td>1.000000</td>\n",
       "      <td>1.400000</td>\n",
       "      <td>0.800000</td>\n",
       "      <td>2.000000</td>\n",
       "      <td>1.0</td>\n",
       "    </tr>\n",
       "    <tr>\n",
       "      <th>25%</th>\n",
       "      <td>20.000000</td>\n",
       "      <td>10.300000</td>\n",
       "      <td>8.000000</td>\n",
       "      <td>12.900000</td>\n",
       "      <td>1.0</td>\n",
       "    </tr>\n",
       "    <tr>\n",
       "      <th>50%</th>\n",
       "      <td>29.000000</td>\n",
       "      <td>16.200000</td>\n",
       "      <td>13.900000</td>\n",
       "      <td>19.200000</td>\n",
       "      <td>1.0</td>\n",
       "    </tr>\n",
       "    <tr>\n",
       "      <th>75%</th>\n",
       "      <td>37.000000</td>\n",
       "      <td>24.000000</td>\n",
       "      <td>20.700000</td>\n",
       "      <td>27.400000</td>\n",
       "      <td>1.0</td>\n",
       "    </tr>\n",
       "    <tr>\n",
       "      <th>max</th>\n",
       "      <td>45.000000</td>\n",
       "      <td>56.400000</td>\n",
       "      <td>48.100000</td>\n",
       "      <td>66.100000</td>\n",
       "      <td>1.0</td>\n",
       "    </tr>\n",
       "  </tbody>\n",
       "</table>\n",
       "</div>"
      ],
      "text/plain": [
       "        Time Period        Value        LowCI       HighCI  Suppression Flag\n",
       "count  10404.000000  9914.000000  9914.000000  9914.000000              22.0\n",
       "mean      28.134948    17.430190    14.757353    20.449818               1.0\n",
       "std       11.040210     8.208126     7.627376     8.956888               0.0\n",
       "min        1.000000     1.400000     0.800000     2.000000               1.0\n",
       "25%       20.000000    10.300000     8.000000    12.900000               1.0\n",
       "50%       29.000000    16.200000    13.900000    19.200000               1.0\n",
       "75%       37.000000    24.000000    20.700000    27.400000               1.0\n",
       "max       45.000000    56.400000    48.100000    66.100000               1.0"
      ]
     },
     "execution_count": 6,
     "metadata": {},
     "output_type": "execute_result"
    }
   ],
   "source": [
    "HealthData.describe()"
   ]
  },
  {
   "cell_type": "markdown",
   "id": "f8fc4e9d",
   "metadata": {
    "papermill": {
     "duration": 0.015151,
     "end_time": "2023-01-14T19:15:57.392912",
     "exception": false,
     "start_time": "2023-01-14T19:15:57.377761",
     "status": "completed"
    },
    "tags": []
   },
   "source": [
    " <h1 style=\"color:red\"; font-size:100%\">DATA CLEANING AND MANIPULATION:</h1> "
   ]
  },
  {
   "cell_type": "markdown",
   "id": "e6a9ff6b",
   "metadata": {
    "papermill": {
     "duration": 0.015231,
     "end_time": "2023-01-14T19:15:57.423774",
     "exception": false,
     "start_time": "2023-01-14T19:15:57.408543",
     "status": "completed"
    },
    "tags": []
   },
   "source": [
    " <h1 style=\"color:tomato\"; font-size:100%\">Calaculatin for Null Values:</h1> "
   ]
  },
  {
   "cell_type": "code",
   "execution_count": 7,
   "id": "2d1000b9",
   "metadata": {
    "execution": {
     "iopub.execute_input": "2023-01-14T19:15:57.456733Z",
     "iopub.status.busy": "2023-01-14T19:15:57.456237Z",
     "iopub.status.idle": "2023-01-14T19:15:57.470924Z",
     "shell.execute_reply": "2023-01-14T19:15:57.469739Z"
    },
    "papermill": {
     "duration": 0.033847,
     "end_time": "2023-01-14T19:15:57.473219",
     "exception": false,
     "start_time": "2023-01-14T19:15:57.439372",
     "status": "completed"
    },
    "tags": []
   },
   "outputs": [
    {
     "data": {
      "text/plain": [
       "Indicator                     0\n",
       "Group                         0\n",
       "State                         0\n",
       "Subgroup                      0\n",
       "Phase                         0\n",
       "Time Period                   0\n",
       "Time Period Label             0\n",
       "Time Period Start Date        0\n",
       "Time Period End Date          0\n",
       "Value                       490\n",
       "LowCI                       490\n",
       "HighCI                      490\n",
       "Confidence Interval         490\n",
       "Quartile Range             3672\n",
       "Suppression Flag          10382\n",
       "dtype: int64"
      ]
     },
     "execution_count": 7,
     "metadata": {},
     "output_type": "execute_result"
    }
   ],
   "source": [
    "HealthData.isnull().sum()"
   ]
  },
  {
   "cell_type": "markdown",
   "id": "4508f7f9",
   "metadata": {
    "papermill": {
     "duration": 0.015228,
     "end_time": "2023-01-14T19:15:57.504401",
     "exception": false,
     "start_time": "2023-01-14T19:15:57.489173",
     "status": "completed"
    },
    "tags": []
   },
   "source": [
    " <div style=\"color:white;\n",
    "           display:fill;\n",
    "           border-radius:5px;\n",
    "           background-color:red;\n",
    "           font-size:110%;\n",
    "           font-family:Verdana;\n",
    "           letter-spacing:0.5px\">\n",
    "\n",
    "<p style=\"padding: 20px;\n",
    "              color:white;\">\n",
    "INSIGHT:Some of the columns have missing values\n",
    "</p>\n",
    " \n",
    " \n"
   ]
  },
  {
   "cell_type": "markdown",
   "id": "b587cd00",
   "metadata": {
    "papermill": {
     "duration": 0.015146,
     "end_time": "2023-01-14T19:15:57.535154",
     "exception": false,
     "start_time": "2023-01-14T19:15:57.520008",
     "status": "completed"
    },
    "tags": []
   },
   "source": [
    "deep=sns.set_palette(\"deep\")\n",
    "muted=sns.set_palette(\"muted\")\n",
    "dark=sns.set_palette(\"dark\")\n",
    "pastel=sns.set_palette(\"pastel\")\n",
    "colorblind=sns.set_palette(\"colorblind\")\n",
    "bright=sns.set_palette(\"bright\")"
   ]
  },
  {
   "cell_type": "markdown",
   "id": "ca91bd2b",
   "metadata": {
    "papermill": {
     "duration": 0.015219,
     "end_time": "2023-01-14T19:15:57.566065",
     "exception": false,
     "start_time": "2023-01-14T19:15:57.550846",
     "status": "completed"
    },
    "tags": []
   },
   "source": [
    "<div style=\"color:white;\n",
    "           display:fill;\n",
    "           border-radius:5px;\n",
    "           background-color:#5642C5;\n",
    "           font-size:110%;\n",
    "           font-family:Verdana;\n",
    "           letter-spacing:0.5px\">\n",
    "\n",
    "<p style=\"padding: 20px;\n",
    "              color:white;\">\n",
    "IMPORT \"missingno\" LIBRARY TO SHOW THE DISTRIBUTION OF MISSING VALUES IN THE DATAFRAME\n",
    "</p>"
   ]
  },
  {
   "cell_type": "code",
   "execution_count": 8,
   "id": "ce0211dd",
   "metadata": {
    "execution": {
     "iopub.execute_input": "2023-01-14T19:15:57.599840Z",
     "iopub.status.busy": "2023-01-14T19:15:57.599344Z",
     "iopub.status.idle": "2023-01-14T19:15:58.390344Z",
     "shell.execute_reply": "2023-01-14T19:15:58.389185Z"
    },
    "papermill": {
     "duration": 0.810909,
     "end_time": "2023-01-14T19:15:58.392870",
     "exception": false,
     "start_time": "2023-01-14T19:15:57.581961",
     "status": "completed"
    },
    "tags": []
   },
   "outputs": [
    {
     "data": {
      "text/plain": [
       "<AxesSubplot:>"
      ]
     },
     "execution_count": 8,
     "metadata": {},
     "output_type": "execute_result"
    },
    {
     "data": {
      "image/png": "[encoded data removed]",
      "text/plain": [
       "<Figure size 1800x720 with 2 Axes>"
      ]
     },
     "metadata": {
      "needs_background": "light"
     },
     "output_type": "display_data"
    }
   ],
   "source": [
    "import missingno as mn\n",
    "mn.matrix(HealthData)"
   ]
  },
  {
   "cell_type": "markdown",
   "id": "58192e34",
   "metadata": {
    "papermill": {
     "duration": 0.018325,
     "end_time": "2023-01-14T19:15:58.428843",
     "exception": false,
     "start_time": "2023-01-14T19:15:58.410518",
     "status": "completed"
    },
    "tags": []
   },
   "source": [
    "<div style=\"color:white;\n",
    "           display:fill;\n",
    "           border-radius:5px;\n",
    "           background-color:red;\n",
    "           font-size:110%;\n",
    "           font-family:Verdana;\n",
    "           letter-spacing:0.5px\">\n",
    "\n",
    "<p style=\"padding: 10px;\n",
    "              color:white;\">    Insight: We have few values that are missing.\n",
    "</p>\n",
    "</div>"
   ]
  },
  {
   "cell_type": "markdown",
   "id": "92620dfd",
   "metadata": {
    "papermill": {
     "duration": 0.01689,
     "end_time": "2023-01-14T19:15:58.463753",
     "exception": false,
     "start_time": "2023-01-14T19:15:58.446863",
     "status": "completed"
    },
    "tags": []
   },
   "source": [
    "<div style=\"color:white;\n",
    "           display:fill;\n",
    "           border-radius:5px;\n",
    "           background-color:blue;\n",
    "           font-size:110%;\n",
    "           font-family:Verdana;\n",
    "           letter-spacing:0.5px\">\n",
    "\n",
    "<p style=\"padding: 10px;\n",
    "              color:white;\">    Showing the % of missing values of each column , if the % is more than 30% \n",
    "# then drop such column.\n",
    "</p>\n",
    "</div>"
   ]
  },
  {
   "cell_type": "markdown",
   "id": "0fa8c398",
   "metadata": {
    "papermill": {
     "duration": 0.017118,
     "end_time": "2023-01-14T19:15:58.497968",
     "exception": false,
     "start_time": "2023-01-14T19:15:58.480850",
     "status": "completed"
    },
    "tags": []
   },
   "source": []
  },
  {
   "cell_type": "code",
   "execution_count": 9,
   "id": "a58d5793",
   "metadata": {
    "execution": {
     "iopub.execute_input": "2023-01-14T19:15:58.536156Z",
     "iopub.status.busy": "2023-01-14T19:15:58.535402Z",
     "iopub.status.idle": "2023-01-14T19:15:58.547042Z",
     "shell.execute_reply": "2023-01-14T19:15:58.546179Z"
    },
    "papermill": {
     "duration": 0.033623,
     "end_time": "2023-01-14T19:15:58.549539",
     "exception": false,
     "start_time": "2023-01-14T19:15:58.515916",
     "status": "completed"
    },
    "tags": []
   },
   "outputs": [],
   "source": [
    "null_percentage=round(HealthData.isnull().sum() / HealthData.shape[0] * 100,3)\n"
   ]
  },
  {
   "cell_type": "code",
   "execution_count": 10,
   "id": "74e77126",
   "metadata": {
    "execution": {
     "iopub.execute_input": "2023-01-14T19:15:58.586288Z",
     "iopub.status.busy": "2023-01-14T19:15:58.585843Z",
     "iopub.status.idle": "2023-01-14T19:15:58.594679Z",
     "shell.execute_reply": "2023-01-14T19:15:58.593596Z"
    },
    "papermill": {
     "duration": 0.029484,
     "end_time": "2023-01-14T19:15:58.596745",
     "exception": false,
     "start_time": "2023-01-14T19:15:58.567261",
     "status": "completed"
    },
    "tags": []
   },
   "outputs": [
    {
     "data": {
      "text/plain": [
       "Indicator                  0.000\n",
       "Group                      0.000\n",
       "State                      0.000\n",
       "Subgroup                   0.000\n",
       "Phase                      0.000\n",
       "Time Period                0.000\n",
       "Time Period Label          0.000\n",
       "Time Period Start Date     0.000\n",
       "Time Period End Date       0.000\n",
       "Value                      4.710\n",
       "LowCI                      4.710\n",
       "HighCI                     4.710\n",
       "Confidence Interval        4.710\n",
       "Quartile Range            35.294\n",
       "Suppression Flag          99.789\n",
       "dtype: float64"
      ]
     },
     "execution_count": 10,
     "metadata": {},
     "output_type": "execute_result"
    }
   ],
   "source": [
    "null_percentage.head(15)"
   ]
  },
  {
   "cell_type": "markdown",
   "id": "e9b7d3a7",
   "metadata": {
    "papermill": {
     "duration": 0.01745,
     "end_time": "2023-01-14T19:15:58.631527",
     "exception": false,
     "start_time": "2023-01-14T19:15:58.614077",
     "status": "completed"
    },
    "tags": []
   },
   "source": [
    "<h1 style=\"color:blue; font-size:200%\">In order to plot a chart that will show us the distributions properly, we need to use the \"reset_index()\" function in order to create a well defined dataframe that can bear the x and y axis</h1>"
   ]
  },
  {
   "cell_type": "code",
   "execution_count": 11,
   "id": "fa0b94b1",
   "metadata": {
    "execution": {
     "iopub.execute_input": "2023-01-14T19:15:58.668750Z",
     "iopub.status.busy": "2023-01-14T19:15:58.667872Z",
     "iopub.status.idle": "2023-01-14T19:15:58.675577Z",
     "shell.execute_reply": "2023-01-14T19:15:58.674460Z"
    },
    "papermill": {
     "duration": 0.029329,
     "end_time": "2023-01-14T19:15:58.678125",
     "exception": false,
     "start_time": "2023-01-14T19:15:58.648796",
     "status": "completed"
    },
    "tags": []
   },
   "outputs": [],
   "source": [
    "null_percentage=pd.DataFrame(null_percentage.reset_index())\n",
    "null_percentage.columns=[\"column name\", \"percentage\"]\n"
   ]
  },
  {
   "cell_type": "code",
   "execution_count": 12,
   "id": "fe1f4b9c",
   "metadata": {
    "execution": {
     "iopub.execute_input": "2023-01-14T19:15:58.715394Z",
     "iopub.status.busy": "2023-01-14T19:15:58.714924Z",
     "iopub.status.idle": "2023-01-14T19:15:58.720261Z",
     "shell.execute_reply": "2023-01-14T19:15:58.719277Z"
    },
    "papermill": {
     "duration": 0.026491,
     "end_time": "2023-01-14T19:15:58.722447",
     "exception": false,
     "start_time": "2023-01-14T19:15:58.695956",
     "status": "completed"
    },
    "tags": []
   },
   "outputs": [],
   "source": [
    "data_percentage=null_percentage[\"percentage\"]\n",
    "keys=null_percentage[\"column name\"]"
   ]
  },
  {
   "cell_type": "markdown",
   "id": "8a2eb2ae",
   "metadata": {
    "papermill": {
     "duration": 0.017033,
     "end_time": "2023-01-14T19:15:58.757006",
     "exception": false,
     "start_time": "2023-01-14T19:15:58.739973",
     "status": "completed"
    },
    "tags": []
   },
   "source": [
    "<div style=\"color:white;\n",
    "           display:fill;\n",
    "           border-radius:5px;\n",
    "           background-color:blue;\n",
    "           font-size:110%;\n",
    "           font-family:Verdana;\n",
    "           letter-spacing:0.5px\">\n",
    "\n",
    "<p style=\"padding: 10px;\n",
    "              color:white;\"> PLOTTING BOTH PIE CHART AND POINT PLOT GRAPH TO SHOW THE DISTRIBUSTIONS   \n",
    "</p>\n",
    "</div>"
   ]
  },
  {
   "cell_type": "code",
   "execution_count": 13,
   "id": "d26726e8",
   "metadata": {
    "execution": {
     "iopub.execute_input": "2023-01-14T19:15:58.793616Z",
     "iopub.status.busy": "2023-01-14T19:15:58.793083Z",
     "iopub.status.idle": "2023-01-14T19:15:59.026964Z",
     "shell.execute_reply": "2023-01-14T19:15:59.025696Z"
    },
    "papermill": {
     "duration": 0.255586,
     "end_time": "2023-01-14T19:15:59.029882",
     "exception": false,
     "start_time": "2023-01-14T19:15:58.774296",
     "status": "completed"
    },
    "tags": []
   },
   "outputs": [
    {
     "data": {
      "image/png": "[encoded data removed]",
      "text/plain": [
       "<Figure size 432x288 with 1 Axes>"
      ]
     },
     "metadata": {},
     "output_type": "display_data"
    }
   ],
   "source": [
    "#define seaborn palatte to use\n",
    "palette_color = sns.color_palette('bright')\n",
    "# plotting data on pie chart\n",
    "\n",
    "plt.pie(data_percentage, labels=keys, colors=palette_color, autopct=\"%.2f\")\n",
    "plt.show()\n"
   ]
  },
  {
   "cell_type": "code",
   "execution_count": 14,
   "id": "cd74b497",
   "metadata": {
    "execution": {
     "iopub.execute_input": "2023-01-14T19:15:59.068139Z",
     "iopub.status.busy": "2023-01-14T19:15:59.067366Z",
     "iopub.status.idle": "2023-01-14T19:15:59.325571Z",
     "shell.execute_reply": "2023-01-14T19:15:59.324368Z"
    },
    "papermill": {
     "duration": 0.280497,
     "end_time": "2023-01-14T19:15:59.328614",
     "exception": false,
     "start_time": "2023-01-14T19:15:59.048117",
     "status": "completed"
    },
    "tags": []
   },
   "outputs": [
    {
     "data": {
      "image/png": "[encoded data removed]",
      "text/plain": [
       "<Figure size 1296x432 with 1 Axes>"
      ]
     },
     "metadata": {
      "needs_background": "light"
     },
     "output_type": "display_data"
    }
   ],
   "source": [
    "#Plotting data on a point plot\n",
    "\n",
    "fig=plt.figure(figsize=(18,6))\n",
    "ax=sns.pointplot(x=\"column name\", y=\"percentage\", data=null_percentage, color=\"blue\")\n",
    "\n",
    "\n",
    "# Adding an hline of 30(%) to show data are above the line so thet we can drop them\n",
    "\n",
    "ax.axhline(30, ls=\"--\", color=\"red\")\n",
    "\n",
    "# adding plot titles and manuplating the x axis orientation\n",
    "\n",
    "plt.title(\"Percentage of missing values\", fontsize=15, color=\"blue\")\n",
    "plt.xlabel(\"column name\", fontsize=15, color=\"blue\")\n",
    "plt.ylabel(\"% of missing values\", fontsize=15, color=\"blue\")\n",
    "plt.xticks(rotation=90, fontsize=15)\n",
    "plt.show()"
   ]
  },
  {
   "cell_type": "markdown",
   "id": "9f9b46d0",
   "metadata": {
    "papermill": {
     "duration": 0.018211,
     "end_time": "2023-01-14T19:15:59.365620",
     "exception": false,
     "start_time": "2023-01-14T19:15:59.347409",
     "status": "completed"
    },
    "tags": []
   },
   "source": [
    "<div style=\"color:white;\n",
    "           display:fill;\n",
    "           border-radius:5px;\n",
    "           background-color:red;\n",
    "           font-size:110%;\n",
    "           font-family:Verdana;\n",
    "           letter-spacing:0.5px\">Insight: The columns \"Suppression Flag\" and \"Quartile Range\" make up about 87% of the missing values in the pie chart and are above 30% above the hline in the plot point graph. Therefore, we will be dropping both columns in the next cell\n",
    "​\n",
    "<p style=\"padding: 10px;\n",
    "              color:white;\">    \n",
    "</p>\n",
    "</div>\n"
   ]
  },
  {
   "cell_type": "code",
   "execution_count": 15,
   "id": "78259d31",
   "metadata": {
    "execution": {
     "iopub.execute_input": "2023-01-14T19:15:59.406757Z",
     "iopub.status.busy": "2023-01-14T19:15:59.405500Z",
     "iopub.status.idle": "2023-01-14T19:15:59.433988Z",
     "shell.execute_reply": "2023-01-14T19:15:59.432824Z"
    },
    "papermill": {
     "duration": 0.05162,
     "end_time": "2023-01-14T19:15:59.436694",
     "exception": false,
     "start_time": "2023-01-14T19:15:59.385074",
     "status": "completed"
    },
    "tags": []
   },
   "outputs": [
    {
     "data": {
      "text/html": [
       "<div>\n",
       "<style scoped>\n",
       "    .dataframe tbody tr th:only-of-type {\n",
       "        vertical-align: middle;\n",
       "    }\n",
       "\n",
       "    .dataframe tbody tr th {\n",
       "        vertical-align: top;\n",
       "    }\n",
       "\n",
       "    .dataframe thead th {\n",
       "        text-align: right;\n",
       "    }\n",
       "</style>\n",
       "<table border=\"1\" class=\"dataframe\">\n",
       "  <thead>\n",
       "    <tr style=\"text-align: right;\">\n",
       "      <th></th>\n",
       "      <th>Indicator</th>\n",
       "      <th>Group</th>\n",
       "      <th>State</th>\n",
       "      <th>Subgroup</th>\n",
       "      <th>Phase</th>\n",
       "      <th>Time Period</th>\n",
       "      <th>Time Period Label</th>\n",
       "      <th>Time Period Start Date</th>\n",
       "      <th>Time Period End Date</th>\n",
       "      <th>Value</th>\n",
       "      <th>LowCI</th>\n",
       "      <th>HighCI</th>\n",
       "      <th>Confidence Interval</th>\n",
       "    </tr>\n",
       "  </thead>\n",
       "  <tbody>\n",
       "    <tr>\n",
       "      <th>0</th>\n",
       "      <td>Took Prescription Medication for Mental Health...</td>\n",
       "      <td>National Estimate</td>\n",
       "      <td>United States</td>\n",
       "      <td>United States</td>\n",
       "      <td>2</td>\n",
       "      <td>13</td>\n",
       "      <td>Aug 19 - Aug 31, 2020</td>\n",
       "      <td>08/19/2020</td>\n",
       "      <td>08/31/2020</td>\n",
       "      <td>19.4</td>\n",
       "      <td>19.0</td>\n",
       "      <td>19.8</td>\n",
       "      <td>19.0 - 19.8</td>\n",
       "    </tr>\n",
       "    <tr>\n",
       "      <th>1</th>\n",
       "      <td>Took Prescription Medication for Mental Health...</td>\n",
       "      <td>By Age</td>\n",
       "      <td>United States</td>\n",
       "      <td>18 - 29 years</td>\n",
       "      <td>2</td>\n",
       "      <td>13</td>\n",
       "      <td>Aug 19 - Aug 31, 2020</td>\n",
       "      <td>08/19/2020</td>\n",
       "      <td>08/31/2020</td>\n",
       "      <td>18.7</td>\n",
       "      <td>17.2</td>\n",
       "      <td>20.3</td>\n",
       "      <td>17.2 - 20.3</td>\n",
       "    </tr>\n",
       "    <tr>\n",
       "      <th>2</th>\n",
       "      <td>Took Prescription Medication for Mental Health...</td>\n",
       "      <td>By Age</td>\n",
       "      <td>United States</td>\n",
       "      <td>30 - 39 years</td>\n",
       "      <td>2</td>\n",
       "      <td>13</td>\n",
       "      <td>Aug 19 - Aug 31, 2020</td>\n",
       "      <td>08/19/2020</td>\n",
       "      <td>08/31/2020</td>\n",
       "      <td>18.3</td>\n",
       "      <td>17.3</td>\n",
       "      <td>19.2</td>\n",
       "      <td>17.3 - 19.2</td>\n",
       "    </tr>\n",
       "    <tr>\n",
       "      <th>3</th>\n",
       "      <td>Took Prescription Medication for Mental Health...</td>\n",
       "      <td>By Age</td>\n",
       "      <td>United States</td>\n",
       "      <td>40 - 49 years</td>\n",
       "      <td>2</td>\n",
       "      <td>13</td>\n",
       "      <td>Aug 19 - Aug 31, 2020</td>\n",
       "      <td>08/19/2020</td>\n",
       "      <td>08/31/2020</td>\n",
       "      <td>20.4</td>\n",
       "      <td>19.5</td>\n",
       "      <td>21.3</td>\n",
       "      <td>19.5 - 21.3</td>\n",
       "    </tr>\n",
       "    <tr>\n",
       "      <th>4</th>\n",
       "      <td>Took Prescription Medication for Mental Health...</td>\n",
       "      <td>By Age</td>\n",
       "      <td>United States</td>\n",
       "      <td>50 - 59 years</td>\n",
       "      <td>2</td>\n",
       "      <td>13</td>\n",
       "      <td>Aug 19 - Aug 31, 2020</td>\n",
       "      <td>08/19/2020</td>\n",
       "      <td>08/31/2020</td>\n",
       "      <td>21.2</td>\n",
       "      <td>20.2</td>\n",
       "      <td>22.2</td>\n",
       "      <td>20.2 - 22.2</td>\n",
       "    </tr>\n",
       "    <tr>\n",
       "      <th>...</th>\n",
       "      <td>...</td>\n",
       "      <td>...</td>\n",
       "      <td>...</td>\n",
       "      <td>...</td>\n",
       "      <td>...</td>\n",
       "      <td>...</td>\n",
       "      <td>...</td>\n",
       "      <td>...</td>\n",
       "      <td>...</td>\n",
       "      <td>...</td>\n",
       "      <td>...</td>\n",
       "      <td>...</td>\n",
       "      <td>...</td>\n",
       "    </tr>\n",
       "    <tr>\n",
       "      <th>10399</th>\n",
       "      <td>Needed Counseling or Therapy But Did Not Get I...</td>\n",
       "      <td>By State</td>\n",
       "      <td>Virginia</td>\n",
       "      <td>Virginia</td>\n",
       "      <td>3.4</td>\n",
       "      <td>45</td>\n",
       "      <td>Apr 27 - May 9, 2022</td>\n",
       "      <td>04/27/2022</td>\n",
       "      <td>05/09/2022</td>\n",
       "      <td>10.1</td>\n",
       "      <td>7.1</td>\n",
       "      <td>13.8</td>\n",
       "      <td>7.1 - 13.8</td>\n",
       "    </tr>\n",
       "    <tr>\n",
       "      <th>10400</th>\n",
       "      <td>Needed Counseling or Therapy But Did Not Get I...</td>\n",
       "      <td>By State</td>\n",
       "      <td>Washington</td>\n",
       "      <td>Washington</td>\n",
       "      <td>3.4</td>\n",
       "      <td>45</td>\n",
       "      <td>Apr 27 - May 9, 2022</td>\n",
       "      <td>04/27/2022</td>\n",
       "      <td>05/09/2022</td>\n",
       "      <td>14.8</td>\n",
       "      <td>12.5</td>\n",
       "      <td>17.4</td>\n",
       "      <td>12.5 - 17.4</td>\n",
       "    </tr>\n",
       "    <tr>\n",
       "      <th>10401</th>\n",
       "      <td>Needed Counseling or Therapy But Did Not Get I...</td>\n",
       "      <td>By State</td>\n",
       "      <td>West Virginia</td>\n",
       "      <td>West Virginia</td>\n",
       "      <td>3.4</td>\n",
       "      <td>45</td>\n",
       "      <td>Apr 27 - May 9, 2022</td>\n",
       "      <td>04/27/2022</td>\n",
       "      <td>05/09/2022</td>\n",
       "      <td>9.8</td>\n",
       "      <td>6.6</td>\n",
       "      <td>13.8</td>\n",
       "      <td>6.6 - 13.8</td>\n",
       "    </tr>\n",
       "    <tr>\n",
       "      <th>10402</th>\n",
       "      <td>Needed Counseling or Therapy But Did Not Get I...</td>\n",
       "      <td>By State</td>\n",
       "      <td>Wisconsin</td>\n",
       "      <td>Wisconsin</td>\n",
       "      <td>3.4</td>\n",
       "      <td>45</td>\n",
       "      <td>Apr 27 - May 9, 2022</td>\n",
       "      <td>04/27/2022</td>\n",
       "      <td>05/09/2022</td>\n",
       "      <td>11.6</td>\n",
       "      <td>8.5</td>\n",
       "      <td>15.3</td>\n",
       "      <td>8.5 - 15.3</td>\n",
       "    </tr>\n",
       "    <tr>\n",
       "      <th>10403</th>\n",
       "      <td>Needed Counseling or Therapy But Did Not Get I...</td>\n",
       "      <td>By State</td>\n",
       "      <td>Wyoming</td>\n",
       "      <td>Wyoming</td>\n",
       "      <td>3.4</td>\n",
       "      <td>45</td>\n",
       "      <td>Apr 27 - May 9, 2022</td>\n",
       "      <td>04/27/2022</td>\n",
       "      <td>05/09/2022</td>\n",
       "      <td>11.5</td>\n",
       "      <td>8.6</td>\n",
       "      <td>15.1</td>\n",
       "      <td>8.6 - 15.1</td>\n",
       "    </tr>\n",
       "  </tbody>\n",
       "</table>\n",
       "<p>10404 rows × 13 columns</p>\n",
       "</div>"
      ],
      "text/plain": [
       "                                               Indicator              Group  \\\n",
       "0      Took Prescription Medication for Mental Health...  National Estimate   \n",
       "1      Took Prescription Medication for Mental Health...             By Age   \n",
       "2      Took Prescription Medication for Mental Health...             By Age   \n",
       "3      Took Prescription Medication for Mental Health...             By Age   \n",
       "4      Took Prescription Medication for Mental Health...             By Age   \n",
       "...                                                  ...                ...   \n",
       "10399  Needed Counseling or Therapy But Did Not Get I...           By State   \n",
       "10400  Needed Counseling or Therapy But Did Not Get I...           By State   \n",
       "10401  Needed Counseling or Therapy But Did Not Get I...           By State   \n",
       "10402  Needed Counseling or Therapy But Did Not Get I...           By State   \n",
       "10403  Needed Counseling or Therapy But Did Not Get I...           By State   \n",
       "\n",
       "               State       Subgroup Phase  Time Period      Time Period Label  \\\n",
       "0      United States  United States     2           13  Aug 19 - Aug 31, 2020   \n",
       "1      United States  18 - 29 years     2           13  Aug 19 - Aug 31, 2020   \n",
       "2      United States  30 - 39 years     2           13  Aug 19 - Aug 31, 2020   \n",
       "3      United States  40 - 49 years     2           13  Aug 19 - Aug 31, 2020   \n",
       "4      United States  50 - 59 years     2           13  Aug 19 - Aug 31, 2020   \n",
       "...              ...            ...   ...          ...                    ...   \n",
       "10399       Virginia       Virginia   3.4           45   Apr 27 - May 9, 2022   \n",
       "10400     Washington     Washington   3.4           45   Apr 27 - May 9, 2022   \n",
       "10401  West Virginia  West Virginia   3.4           45   Apr 27 - May 9, 2022   \n",
       "10402      Wisconsin      Wisconsin   3.4           45   Apr 27 - May 9, 2022   \n",
       "10403        Wyoming        Wyoming   3.4           45   Apr 27 - May 9, 2022   \n",
       "\n",
       "      Time Period Start Date Time Period End Date  Value  LowCI  HighCI  \\\n",
       "0                 08/19/2020           08/31/2020   19.4   19.0    19.8   \n",
       "1                 08/19/2020           08/31/2020   18.7   17.2    20.3   \n",
       "2                 08/19/2020           08/31/2020   18.3   17.3    19.2   \n",
       "3                 08/19/2020           08/31/2020   20.4   19.5    21.3   \n",
       "4                 08/19/2020           08/31/2020   21.2   20.2    22.2   \n",
       "...                      ...                  ...    ...    ...     ...   \n",
       "10399             04/27/2022           05/09/2022   10.1    7.1    13.8   \n",
       "10400             04/27/2022           05/09/2022   14.8   12.5    17.4   \n",
       "10401             04/27/2022           05/09/2022    9.8    6.6    13.8   \n",
       "10402             04/27/2022           05/09/2022   11.6    8.5    15.3   \n",
       "10403             04/27/2022           05/09/2022   11.5    8.6    15.1   \n",
       "\n",
       "      Confidence Interval  \n",
       "0             19.0 - 19.8  \n",
       "1             17.2 - 20.3  \n",
       "2             17.3 - 19.2  \n",
       "3             19.5 - 21.3  \n",
       "4             20.2 - 22.2  \n",
       "...                   ...  \n",
       "10399          7.1 - 13.8  \n",
       "10400         12.5 - 17.4  \n",
       "10401          6.6 - 13.8  \n",
       "10402          8.5 - 15.3  \n",
       "10403          8.6 - 15.1  \n",
       "\n",
       "[10404 rows x 13 columns]"
      ]
     },
     "execution_count": 15,
     "metadata": {},
     "output_type": "execute_result"
    }
   ],
   "source": [
    "# Dropping columns\n",
    "data=HealthData.drop([\"Suppression Flag\",\"Quartile Range\"], axis=\"columns\")\n",
    "data\n"
   ]
  },
  {
   "cell_type": "markdown",
   "id": "02149ed4",
   "metadata": {
    "papermill": {
     "duration": 0.018749,
     "end_time": "2023-01-14T19:15:59.474942",
     "exception": false,
     "start_time": "2023-01-14T19:15:59.456193",
     "status": "completed"
    },
    "tags": []
   },
   "source": [
    "<div style=\"color:white;\n",
    "           display:fill;\n",
    "           border-radius:5px;\n",
    "           background-color:blue;\n",
    "           font-size:110%;\n",
    "           font-family:Verdana;\n",
    "           letter-spacing:0.5px\">\n",
    "\n",
    "<p style=\"padding: 10px;\n",
    "              color:white;\"> SHOWING THE NEW DATAFRAME WITH THE DELETED COLUMNS\n",
    "</p>\n",
    "</div>"
   ]
  },
  {
   "cell_type": "code",
   "execution_count": 16,
   "id": "ccf26b3e",
   "metadata": {
    "execution": {
     "iopub.execute_input": "2023-01-14T19:15:59.515347Z",
     "iopub.status.busy": "2023-01-14T19:15:59.514489Z",
     "iopub.status.idle": "2023-01-14T19:15:59.529032Z",
     "shell.execute_reply": "2023-01-14T19:15:59.527907Z"
    },
    "papermill": {
     "duration": 0.037254,
     "end_time": "2023-01-14T19:15:59.531369",
     "exception": false,
     "start_time": "2023-01-14T19:15:59.494115",
     "status": "completed"
    },
    "tags": []
   },
   "outputs": [
    {
     "data": {
      "text/plain": [
       "Indicator                     0\n",
       "Group                         0\n",
       "State                         0\n",
       "Subgroup                      0\n",
       "Phase                         0\n",
       "Time Period                   0\n",
       "Time Period Label             0\n",
       "Time Period Start Date        0\n",
       "Time Period End Date          0\n",
       "Value                       490\n",
       "LowCI                       490\n",
       "HighCI                      490\n",
       "Confidence Interval         490\n",
       "Quartile Range             3672\n",
       "Suppression Flag          10382\n",
       "dtype: int64"
      ]
     },
     "execution_count": 16,
     "metadata": {},
     "output_type": "execute_result"
    }
   ],
   "source": [
    "# original dataframe\n",
    "HealthData.isnull().sum()"
   ]
  },
  {
   "cell_type": "markdown",
   "id": "8794d6f7",
   "metadata": {
    "papermill": {
     "duration": 0.018737,
     "end_time": "2023-01-14T19:15:59.569469",
     "exception": false,
     "start_time": "2023-01-14T19:15:59.550732",
     "status": "completed"
    },
    "tags": []
   },
   "source": []
  },
  {
   "cell_type": "code",
   "execution_count": 17,
   "id": "89d11d07",
   "metadata": {
    "execution": {
     "iopub.execute_input": "2023-01-14T19:15:59.611433Z",
     "iopub.status.busy": "2023-01-14T19:15:59.610635Z",
     "iopub.status.idle": "2023-01-14T19:15:59.625008Z",
     "shell.execute_reply": "2023-01-14T19:15:59.623792Z"
    },
    "papermill": {
     "duration": 0.038126,
     "end_time": "2023-01-14T19:15:59.627335",
     "exception": false,
     "start_time": "2023-01-14T19:15:59.589209",
     "status": "completed"
    },
    "tags": []
   },
   "outputs": [
    {
     "data": {
      "text/plain": [
       "Indicator                   0\n",
       "Group                       0\n",
       "State                       0\n",
       "Subgroup                    0\n",
       "Phase                       0\n",
       "Time Period                 0\n",
       "Time Period Label           0\n",
       "Time Period Start Date      0\n",
       "Time Period End Date        0\n",
       "Value                     490\n",
       "LowCI                     490\n",
       "HighCI                    490\n",
       "Confidence Interval       490\n",
       "dtype: int64"
      ]
     },
     "execution_count": 17,
     "metadata": {},
     "output_type": "execute_result"
    }
   ],
   "source": [
    "# new dataframe with deleted columns\n",
    "data.isnull().sum()"
   ]
  },
  {
   "cell_type": "code",
   "execution_count": 18,
   "id": "016a0580",
   "metadata": {
    "execution": {
     "iopub.execute_input": "2023-01-14T19:15:59.669169Z",
     "iopub.status.busy": "2023-01-14T19:15:59.668468Z",
     "iopub.status.idle": "2023-01-14T19:15:59.689025Z",
     "shell.execute_reply": "2023-01-14T19:15:59.687858Z"
    },
    "papermill": {
     "duration": 0.044432,
     "end_time": "2023-01-14T19:15:59.691460",
     "exception": false,
     "start_time": "2023-01-14T19:15:59.647028",
     "status": "completed"
    },
    "tags": []
   },
   "outputs": [
    {
     "data": {
      "text/plain": [
       "Indicator                 0\n",
       "Group                     0\n",
       "State                     0\n",
       "Subgroup                  0\n",
       "Phase                     0\n",
       "Time Period               0\n",
       "Time Period Label         0\n",
       "Time Period Start Date    0\n",
       "Time Period End Date      0\n",
       "Value                     0\n",
       "LowCI                     0\n",
       "HighCI                    0\n",
       "Confidence Interval       0\n",
       "dtype: int64"
      ]
     },
     "execution_count": 18,
     "metadata": {},
     "output_type": "execute_result"
    }
   ],
   "source": [
    "# filling missing values in the remaining columns\n",
    "data.fillna(0, inplace=True)\n",
    "data.isnull().sum()"
   ]
  },
  {
   "cell_type": "code",
   "execution_count": 19,
   "id": "0e29194b",
   "metadata": {
    "execution": {
     "iopub.execute_input": "2023-01-14T19:15:59.732621Z",
     "iopub.status.busy": "2023-01-14T19:15:59.732120Z",
     "iopub.status.idle": "2023-01-14T19:15:59.757016Z",
     "shell.execute_reply": "2023-01-14T19:15:59.755846Z"
    },
    "papermill": {
     "duration": 0.048351,
     "end_time": "2023-01-14T19:15:59.759498",
     "exception": false,
     "start_time": "2023-01-14T19:15:59.711147",
     "status": "completed"
    },
    "tags": []
   },
   "outputs": [
    {
     "data": {
      "text/plain": [
       "0"
      ]
     },
     "execution_count": 19,
     "metadata": {},
     "output_type": "execute_result"
    }
   ],
   "source": [
    "# check for duplicated rows\n",
    "data.duplicated().sum()\n"
   ]
  },
  {
   "cell_type": "markdown",
   "id": "ed626784",
   "metadata": {
    "papermill": {
     "duration": 0.019102,
     "end_time": "2023-01-14T19:15:59.798538",
     "exception": false,
     "start_time": "2023-01-14T19:15:59.779436",
     "status": "completed"
    },
    "tags": []
   },
   "source": [
    "<div style=\"color:white;\n",
    "           display:fill;\n",
    "           border-radius:5px;\n",
    "           background-color:red;\n",
    "           font-size:110%;\n",
    "           font-family:Verdana;\n",
    "           letter-spacing:0.5px\">COMMENT: At this point, we can say that our data is cleaned, with no dupplicates.\n",
    "\n",
    "<p style=\"padding: 10px;\n",
    "              color:white;\">    \n",
    "</p>\n",
    "</div>"
   ]
  },
  {
   "cell_type": "markdown",
   "id": "0d64217f",
   "metadata": {
    "papermill": {
     "duration": 0.019172,
     "end_time": "2023-01-14T19:15:59.838294",
     "exception": false,
     "start_time": "2023-01-14T19:15:59.819122",
     "status": "completed"
    },
    "tags": []
   },
   "source": [
    "<div style=\"color:white;\n",
    "           display:fill;\n",
    "           border-radius:5px;\n",
    "           background-color:BLACK;\n",
    "           font-size:110%;\n",
    "           font-family:Verdana;\n",
    "           letter-spacing:0.5px\">FURTHER EXPLORATION INTO THE DATA\n",
    "\n",
    "<p style=\"padding: 10px;\n",
    "              color:white;\">    \n",
    "</p>\n",
    "</div>"
   ]
  },
  {
   "cell_type": "code",
   "execution_count": 20,
   "id": "a6a17792",
   "metadata": {
    "execution": {
     "iopub.execute_input": "2023-01-14T19:15:59.879666Z",
     "iopub.status.busy": "2023-01-14T19:15:59.879175Z",
     "iopub.status.idle": "2023-01-14T19:15:59.904592Z",
     "shell.execute_reply": "2023-01-14T19:15:59.903449Z"
    },
    "papermill": {
     "duration": 0.049288,
     "end_time": "2023-01-14T19:15:59.907042",
     "exception": false,
     "start_time": "2023-01-14T19:15:59.857754",
     "status": "completed"
    },
    "tags": []
   },
   "outputs": [
    {
     "data": {
      "text/html": [
       "<div>\n",
       "<style scoped>\n",
       "    .dataframe tbody tr th:only-of-type {\n",
       "        vertical-align: middle;\n",
       "    }\n",
       "\n",
       "    .dataframe tbody tr th {\n",
       "        vertical-align: top;\n",
       "    }\n",
       "\n",
       "    .dataframe thead th {\n",
       "        text-align: right;\n",
       "    }\n",
       "</style>\n",
       "<table border=\"1\" class=\"dataframe\">\n",
       "  <thead>\n",
       "    <tr style=\"text-align: right;\">\n",
       "      <th></th>\n",
       "      <th>Indicator</th>\n",
       "      <th>Group</th>\n",
       "      <th>State</th>\n",
       "      <th>Subgroup</th>\n",
       "      <th>Phase</th>\n",
       "      <th>Time Period</th>\n",
       "      <th>Time Period Label</th>\n",
       "      <th>Time Period Start Date</th>\n",
       "      <th>Time Period End Date</th>\n",
       "      <th>Value</th>\n",
       "      <th>LowCI</th>\n",
       "      <th>HighCI</th>\n",
       "      <th>Confidence Interval</th>\n",
       "    </tr>\n",
       "  </thead>\n",
       "  <tbody>\n",
       "    <tr>\n",
       "      <th>0</th>\n",
       "      <td>Took Prescription Medication for Mental Health...</td>\n",
       "      <td>National Estimate</td>\n",
       "      <td>United States</td>\n",
       "      <td>United States</td>\n",
       "      <td>2</td>\n",
       "      <td>13</td>\n",
       "      <td>Aug 19 - Aug 31, 2020</td>\n",
       "      <td>08/19/2020</td>\n",
       "      <td>08/31/2020</td>\n",
       "      <td>19.4</td>\n",
       "      <td>19.0</td>\n",
       "      <td>19.8</td>\n",
       "      <td>19.0 - 19.8</td>\n",
       "    </tr>\n",
       "    <tr>\n",
       "      <th>1</th>\n",
       "      <td>Took Prescription Medication for Mental Health...</td>\n",
       "      <td>By Age</td>\n",
       "      <td>United States</td>\n",
       "      <td>18 - 29 years</td>\n",
       "      <td>2</td>\n",
       "      <td>13</td>\n",
       "      <td>Aug 19 - Aug 31, 2020</td>\n",
       "      <td>08/19/2020</td>\n",
       "      <td>08/31/2020</td>\n",
       "      <td>18.7</td>\n",
       "      <td>17.2</td>\n",
       "      <td>20.3</td>\n",
       "      <td>17.2 - 20.3</td>\n",
       "    </tr>\n",
       "    <tr>\n",
       "      <th>2</th>\n",
       "      <td>Took Prescription Medication for Mental Health...</td>\n",
       "      <td>By Age</td>\n",
       "      <td>United States</td>\n",
       "      <td>30 - 39 years</td>\n",
       "      <td>2</td>\n",
       "      <td>13</td>\n",
       "      <td>Aug 19 - Aug 31, 2020</td>\n",
       "      <td>08/19/2020</td>\n",
       "      <td>08/31/2020</td>\n",
       "      <td>18.3</td>\n",
       "      <td>17.3</td>\n",
       "      <td>19.2</td>\n",
       "      <td>17.3 - 19.2</td>\n",
       "    </tr>\n",
       "    <tr>\n",
       "      <th>3</th>\n",
       "      <td>Took Prescription Medication for Mental Health...</td>\n",
       "      <td>By Age</td>\n",
       "      <td>United States</td>\n",
       "      <td>40 - 49 years</td>\n",
       "      <td>2</td>\n",
       "      <td>13</td>\n",
       "      <td>Aug 19 - Aug 31, 2020</td>\n",
       "      <td>08/19/2020</td>\n",
       "      <td>08/31/2020</td>\n",
       "      <td>20.4</td>\n",
       "      <td>19.5</td>\n",
       "      <td>21.3</td>\n",
       "      <td>19.5 - 21.3</td>\n",
       "    </tr>\n",
       "    <tr>\n",
       "      <th>4</th>\n",
       "      <td>Took Prescription Medication for Mental Health...</td>\n",
       "      <td>By Age</td>\n",
       "      <td>United States</td>\n",
       "      <td>50 - 59 years</td>\n",
       "      <td>2</td>\n",
       "      <td>13</td>\n",
       "      <td>Aug 19 - Aug 31, 2020</td>\n",
       "      <td>08/19/2020</td>\n",
       "      <td>08/31/2020</td>\n",
       "      <td>21.2</td>\n",
       "      <td>20.2</td>\n",
       "      <td>22.2</td>\n",
       "      <td>20.2 - 22.2</td>\n",
       "    </tr>\n",
       "    <tr>\n",
       "      <th>...</th>\n",
       "      <td>...</td>\n",
       "      <td>...</td>\n",
       "      <td>...</td>\n",
       "      <td>...</td>\n",
       "      <td>...</td>\n",
       "      <td>...</td>\n",
       "      <td>...</td>\n",
       "      <td>...</td>\n",
       "      <td>...</td>\n",
       "      <td>...</td>\n",
       "      <td>...</td>\n",
       "      <td>...</td>\n",
       "      <td>...</td>\n",
       "    </tr>\n",
       "    <tr>\n",
       "      <th>10399</th>\n",
       "      <td>Needed Counseling or Therapy But Did Not Get I...</td>\n",
       "      <td>By State</td>\n",
       "      <td>Virginia</td>\n",
       "      <td>Virginia</td>\n",
       "      <td>3.4</td>\n",
       "      <td>45</td>\n",
       "      <td>Apr 27 - May 9, 2022</td>\n",
       "      <td>04/27/2022</td>\n",
       "      <td>05/09/2022</td>\n",
       "      <td>10.1</td>\n",
       "      <td>7.1</td>\n",
       "      <td>13.8</td>\n",
       "      <td>7.1 - 13.8</td>\n",
       "    </tr>\n",
       "    <tr>\n",
       "      <th>10400</th>\n",
       "      <td>Needed Counseling or Therapy But Did Not Get I...</td>\n",
       "      <td>By State</td>\n",
       "      <td>Washington</td>\n",
       "      <td>Washington</td>\n",
       "      <td>3.4</td>\n",
       "      <td>45</td>\n",
       "      <td>Apr 27 - May 9, 2022</td>\n",
       "      <td>04/27/2022</td>\n",
       "      <td>05/09/2022</td>\n",
       "      <td>14.8</td>\n",
       "      <td>12.5</td>\n",
       "      <td>17.4</td>\n",
       "      <td>12.5 - 17.4</td>\n",
       "    </tr>\n",
       "    <tr>\n",
       "      <th>10401</th>\n",
       "      <td>Needed Counseling or Therapy But Did Not Get I...</td>\n",
       "      <td>By State</td>\n",
       "      <td>West Virginia</td>\n",
       "      <td>West Virginia</td>\n",
       "      <td>3.4</td>\n",
       "      <td>45</td>\n",
       "      <td>Apr 27 - May 9, 2022</td>\n",
       "      <td>04/27/2022</td>\n",
       "      <td>05/09/2022</td>\n",
       "      <td>9.8</td>\n",
       "      <td>6.6</td>\n",
       "      <td>13.8</td>\n",
       "      <td>6.6 - 13.8</td>\n",
       "    </tr>\n",
       "    <tr>\n",
       "      <th>10402</th>\n",
       "      <td>Needed Counseling or Therapy But Did Not Get I...</td>\n",
       "      <td>By State</td>\n",
       "      <td>Wisconsin</td>\n",
       "      <td>Wisconsin</td>\n",
       "      <td>3.4</td>\n",
       "      <td>45</td>\n",
       "      <td>Apr 27 - May 9, 2022</td>\n",
       "      <td>04/27/2022</td>\n",
       "      <td>05/09/2022</td>\n",
       "      <td>11.6</td>\n",
       "      <td>8.5</td>\n",
       "      <td>15.3</td>\n",
       "      <td>8.5 - 15.3</td>\n",
       "    </tr>\n",
       "    <tr>\n",
       "      <th>10403</th>\n",
       "      <td>Needed Counseling or Therapy But Did Not Get I...</td>\n",
       "      <td>By State</td>\n",
       "      <td>Wyoming</td>\n",
       "      <td>Wyoming</td>\n",
       "      <td>3.4</td>\n",
       "      <td>45</td>\n",
       "      <td>Apr 27 - May 9, 2022</td>\n",
       "      <td>04/27/2022</td>\n",
       "      <td>05/09/2022</td>\n",
       "      <td>11.5</td>\n",
       "      <td>8.6</td>\n",
       "      <td>15.1</td>\n",
       "      <td>8.6 - 15.1</td>\n",
       "    </tr>\n",
       "  </tbody>\n",
       "</table>\n",
       "<p>10404 rows × 13 columns</p>\n",
       "</div>"
      ],
      "text/plain": [
       "                                               Indicator              Group  \\\n",
       "0      Took Prescription Medication for Mental Health...  National Estimate   \n",
       "1      Took Prescription Medication for Mental Health...             By Age   \n",
       "2      Took Prescription Medication for Mental Health...             By Age   \n",
       "3      Took Prescription Medication for Mental Health...             By Age   \n",
       "4      Took Prescription Medication for Mental Health...             By Age   \n",
       "...                                                  ...                ...   \n",
       "10399  Needed Counseling or Therapy But Did Not Get I...           By State   \n",
       "10400  Needed Counseling or Therapy But Did Not Get I...           By State   \n",
       "10401  Needed Counseling or Therapy But Did Not Get I...           By State   \n",
       "10402  Needed Counseling or Therapy But Did Not Get I...           By State   \n",
       "10403  Needed Counseling or Therapy But Did Not Get I...           By State   \n",
       "\n",
       "               State       Subgroup Phase  Time Period      Time Period Label  \\\n",
       "0      United States  United States     2           13  Aug 19 - Aug 31, 2020   \n",
       "1      United States  18 - 29 years     2           13  Aug 19 - Aug 31, 2020   \n",
       "2      United States  30 - 39 years     2           13  Aug 19 - Aug 31, 2020   \n",
       "3      United States  40 - 49 years     2           13  Aug 19 - Aug 31, 2020   \n",
       "4      United States  50 - 59 years     2           13  Aug 19 - Aug 31, 2020   \n",
       "...              ...            ...   ...          ...                    ...   \n",
       "10399       Virginia       Virginia   3.4           45   Apr 27 - May 9, 2022   \n",
       "10400     Washington     Washington   3.4           45   Apr 27 - May 9, 2022   \n",
       "10401  West Virginia  West Virginia   3.4           45   Apr 27 - May 9, 2022   \n",
       "10402      Wisconsin      Wisconsin   3.4           45   Apr 27 - May 9, 2022   \n",
       "10403        Wyoming        Wyoming   3.4           45   Apr 27 - May 9, 2022   \n",
       "\n",
       "      Time Period Start Date Time Period End Date  Value  LowCI  HighCI  \\\n",
       "0                 08/19/2020           08/31/2020   19.4   19.0    19.8   \n",
       "1                 08/19/2020           08/31/2020   18.7   17.2    20.3   \n",
       "2                 08/19/2020           08/31/2020   18.3   17.3    19.2   \n",
       "3                 08/19/2020           08/31/2020   20.4   19.5    21.3   \n",
       "4                 08/19/2020           08/31/2020   21.2   20.2    22.2   \n",
       "...                      ...                  ...    ...    ...     ...   \n",
       "10399             04/27/2022           05/09/2022   10.1    7.1    13.8   \n",
       "10400             04/27/2022           05/09/2022   14.8   12.5    17.4   \n",
       "10401             04/27/2022           05/09/2022    9.8    6.6    13.8   \n",
       "10402             04/27/2022           05/09/2022   11.6    8.5    15.3   \n",
       "10403             04/27/2022           05/09/2022   11.5    8.6    15.1   \n",
       "\n",
       "      Confidence Interval  \n",
       "0             19.0 - 19.8  \n",
       "1             17.2 - 20.3  \n",
       "2             17.3 - 19.2  \n",
       "3             19.5 - 21.3  \n",
       "4             20.2 - 22.2  \n",
       "...                   ...  \n",
       "10399          7.1 - 13.8  \n",
       "10400         12.5 - 17.4  \n",
       "10401          6.6 - 13.8  \n",
       "10402          8.5 - 15.3  \n",
       "10403          8.6 - 15.1  \n",
       "\n",
       "[10404 rows x 13 columns]"
      ]
     },
     "execution_count": 20,
     "metadata": {},
     "output_type": "execute_result"
    }
   ],
   "source": [
    "data"
   ]
  },
  {
   "cell_type": "code",
   "execution_count": 21,
   "id": "c43eaa81",
   "metadata": {
    "execution": {
     "iopub.execute_input": "2023-01-14T19:15:59.949601Z",
     "iopub.status.busy": "2023-01-14T19:15:59.948641Z",
     "iopub.status.idle": "2023-01-14T19:15:59.957654Z",
     "shell.execute_reply": "2023-01-14T19:15:59.956575Z"
    },
    "papermill": {
     "duration": 0.032787,
     "end_time": "2023-01-14T19:15:59.959970",
     "exception": false,
     "start_time": "2023-01-14T19:15:59.927183",
     "status": "completed"
    },
    "tags": []
   },
   "outputs": [
    {
     "data": {
      "text/plain": [
       "0        Took Prescription Medication for Mental Health...\n",
       "1        Took Prescription Medication for Mental Health...\n",
       "2        Took Prescription Medication for Mental Health...\n",
       "3        Took Prescription Medication for Mental Health...\n",
       "4        Took Prescription Medication for Mental Health...\n",
       "                               ...                        \n",
       "10399    Needed Counseling or Therapy But Did Not Get I...\n",
       "10400    Needed Counseling or Therapy But Did Not Get I...\n",
       "10401    Needed Counseling or Therapy But Did Not Get I...\n",
       "10402    Needed Counseling or Therapy But Did Not Get I...\n",
       "10403    Needed Counseling or Therapy But Did Not Get I...\n",
       "Name: Indicator, Length: 10404, dtype: object"
      ]
     },
     "execution_count": 21,
     "metadata": {},
     "output_type": "execute_result"
    }
   ],
   "source": [
    "# check for the key indicators used for the data collection\n",
    "Indicators=data[\"Indicator\"]\n",
    "Indicators"
   ]
  },
  {
   "cell_type": "code",
   "execution_count": 22,
   "id": "574c31f1",
   "metadata": {
    "execution": {
     "iopub.execute_input": "2023-01-14T19:16:00.002401Z",
     "iopub.status.busy": "2023-01-14T19:16:00.001939Z",
     "iopub.status.idle": "2023-01-14T19:16:00.010468Z",
     "shell.execute_reply": "2023-01-14T19:16:00.009266Z"
    },
    "papermill": {
     "duration": 0.032445,
     "end_time": "2023-01-14T19:16:00.012664",
     "exception": false,
     "start_time": "2023-01-14T19:15:59.980219",
     "status": "completed"
    },
    "tags": []
   },
   "outputs": [
    {
     "data": {
      "text/plain": [
       "4"
      ]
     },
     "execution_count": 22,
     "metadata": {},
     "output_type": "execute_result"
    }
   ],
   "source": [
    "# check for the number of specific indicators\n",
    "Indicators.nunique()"
   ]
  },
  {
   "cell_type": "code",
   "execution_count": 23,
   "id": "c744d0e8",
   "metadata": {
    "execution": {
     "iopub.execute_input": "2023-01-14T19:16:00.056722Z",
     "iopub.status.busy": "2023-01-14T19:16:00.056246Z",
     "iopub.status.idle": "2023-01-14T19:16:00.063692Z",
     "shell.execute_reply": "2023-01-14T19:16:00.062324Z"
    },
    "papermill": {
     "duration": 0.032595,
     "end_time": "2023-01-14T19:16:00.066554",
     "exception": false,
     "start_time": "2023-01-14T19:16:00.033959",
     "status": "completed"
    },
    "tags": []
   },
   "outputs": [
    {
     "name": "stdout",
     "output_type": "stream",
     "text": [
      "These are the indicators listed here:  ['Took Prescription Medication for Mental Health, Last 4 Weeks'\n",
      " 'Received Counseling or Therapy, Last 4 Weeks'\n",
      " 'Took Prescription Medication for Mental Health And/Or Received Counseling or Therapy, Last 4 Weeks'\n",
      " 'Needed Counseling or Therapy But Did Not Get It, Last 4 Weeks']\n"
     ]
    }
   ],
   "source": [
    "# There are 4 specific indicators. let us print them out\n",
    "print(\"These are the indicators listed here: \",\n",
    "       Indicators.unique())"
   ]
  },
  {
   "cell_type": "code",
   "execution_count": 24,
   "id": "387a499a",
   "metadata": {
    "execution": {
     "iopub.execute_input": "2023-01-14T19:16:00.109896Z",
     "iopub.status.busy": "2023-01-14T19:16:00.109464Z",
     "iopub.status.idle": "2023-01-14T19:16:00.117784Z",
     "shell.execute_reply": "2023-01-14T19:16:00.116565Z"
    },
    "papermill": {
     "duration": 0.032867,
     "end_time": "2023-01-14T19:16:00.120464",
     "exception": false,
     "start_time": "2023-01-14T19:16:00.087597",
     "status": "completed"
    },
    "tags": []
   },
   "outputs": [
    {
     "name": "stdout",
     "output_type": "stream",
     "text": [
      "There are  10  unique groups in the data  and they include;  ['National Estimate' 'By Age' 'By Sex'\n",
      " 'By Presence of Symptoms of Anxiety/Depression'\n",
      " 'By Race/Hispanic ethnicity' 'By Education' 'By State'\n",
      " 'By Disability status' 'By Sexual orientation' 'By Gender identity']\n"
     ]
    }
   ],
   "source": [
    "# The same process will be applied to the Group column\n",
    "Groups=data[\"Group\"]\n",
    "print('There are ', Groups.nunique(), \" unique groups in the data \", \n",
    "     \"and they include; \", Groups.unique())"
   ]
  },
  {
   "cell_type": "code",
   "execution_count": 25,
   "id": "462cf425",
   "metadata": {
    "execution": {
     "iopub.execute_input": "2023-01-14T19:16:00.164265Z",
     "iopub.status.busy": "2023-01-14T19:16:00.163765Z",
     "iopub.status.idle": "2023-01-14T19:16:00.171983Z",
     "shell.execute_reply": "2023-01-14T19:16:00.170710Z"
    },
    "papermill": {
     "duration": 0.033407,
     "end_time": "2023-01-14T19:16:00.174869",
     "exception": false,
     "start_time": "2023-01-14T19:16:00.141462",
     "status": "completed"
    },
    "tags": []
   },
   "outputs": [
    {
     "name": "stdout",
     "output_type": "stream",
     "text": [
      "There are  52  unique states in the data  and they include;  ['United States' 'Alabama' 'Alaska' 'Arizona' 'Arkansas' 'California'\n",
      " 'Colorado' 'Connecticut' 'Delaware' 'District of Columbia' 'Florida'\n",
      " 'Georgia' 'Hawaii' 'Idaho' 'Illinois' 'Indiana' 'Iowa' 'Kansas'\n",
      " 'Kentucky' 'Louisiana' 'Maine' 'Maryland' 'Massachusetts' 'Michigan'\n",
      " 'Minnesota' 'Mississippi' 'Missouri' 'Montana' 'Nebraska' 'Nevada'\n",
      " 'New Hampshire' 'New Jersey' 'New Mexico' 'New York' 'North Carolina'\n",
      " 'North Dakota' 'Ohio' 'Oklahoma' 'Oregon' 'Pennsylvania' 'Rhode Island'\n",
      " 'South Carolina' 'South Dakota' 'Tennessee' 'Texas' 'Utah' 'Vermont'\n",
      " 'Virginia' 'Washington' 'West Virginia' 'Wisconsin' 'Wyoming']\n"
     ]
    }
   ],
   "source": [
    "# We will repeat the same process we did above on the column State  \n",
    "States=data[\"State\"] \n",
    "print('There are ', States.nunique(), \" unique states in the data \", \n",
    "     \"and they include; \", States.unique())\n",
    "\n"
   ]
  },
  {
   "cell_type": "markdown",
   "id": "e7491e65",
   "metadata": {
    "papermill": {
     "duration": 0.02073,
     "end_time": "2023-01-14T19:16:00.216713",
     "exception": false,
     "start_time": "2023-01-14T19:16:00.195983",
     "status": "completed"
    },
    "tags": []
   },
   "source": [
    "<div style=\"color:white;\n",
    "           display:fill;\n",
    "           border-radius:5px;\n",
    "           background-color:BLACK;\n",
    "           font-size:110%;\n",
    "           font-family:Verdana;\n",
    "           letter-spacing:0.5px\">The United State, which is a country is in the State column, so we may decide to filter it out to avoid ambiquity\n",
    "\n",
    "<p style=\"padding: 10px;\n",
    "              color:white;\">    \n",
    "</p>\n",
    "</div>"
   ]
  },
  {
   "cell_type": "code",
   "execution_count": 26,
   "id": "4defc9ff",
   "metadata": {
    "execution": {
     "iopub.execute_input": "2023-01-14T19:16:00.260430Z",
     "iopub.status.busy": "2023-01-14T19:16:00.259685Z",
     "iopub.status.idle": "2023-01-14T19:16:00.267513Z",
     "shell.execute_reply": "2023-01-14T19:16:00.266432Z"
    },
    "papermill": {
     "duration": 0.032169,
     "end_time": "2023-01-14T19:16:00.269735",
     "exception": false,
     "start_time": "2023-01-14T19:16:00.237566",
     "status": "completed"
    },
    "tags": []
   },
   "outputs": [
    {
     "data": {
      "text/plain": [
       "0        United States\n",
       "1        United States\n",
       "2        United States\n",
       "3        United States\n",
       "4        United States\n",
       "             ...      \n",
       "10399         Virginia\n",
       "10400       Washington\n",
       "10401    West Virginia\n",
       "10402        Wisconsin\n",
       "10403          Wyoming\n",
       "Name: State, Length: 10404, dtype: object"
      ]
     },
     "execution_count": 26,
     "metadata": {},
     "output_type": "execute_result"
    }
   ],
   "source": [
    "States"
   ]
  },
  {
   "cell_type": "code",
   "execution_count": 27,
   "id": "2aa9eaea",
   "metadata": {
    "execution": {
     "iopub.execute_input": "2023-01-14T19:16:00.312493Z",
     "iopub.status.busy": "2023-01-14T19:16:00.312002Z",
     "iopub.status.idle": "2023-01-14T19:16:00.341530Z",
     "shell.execute_reply": "2023-01-14T19:16:00.340323Z"
    },
    "papermill": {
     "duration": 0.053453,
     "end_time": "2023-01-14T19:16:00.343740",
     "exception": false,
     "start_time": "2023-01-14T19:16:00.290287",
     "status": "completed"
    },
    "tags": []
   },
   "outputs": [
    {
     "data": {
      "text/html": [
       "<div>\n",
       "<style scoped>\n",
       "    .dataframe tbody tr th:only-of-type {\n",
       "        vertical-align: middle;\n",
       "    }\n",
       "\n",
       "    .dataframe tbody tr th {\n",
       "        vertical-align: top;\n",
       "    }\n",
       "\n",
       "    .dataframe thead th {\n",
       "        text-align: right;\n",
       "    }\n",
       "</style>\n",
       "<table border=\"1\" class=\"dataframe\">\n",
       "  <thead>\n",
       "    <tr style=\"text-align: right;\">\n",
       "      <th></th>\n",
       "      <th>Indicator</th>\n",
       "      <th>Group</th>\n",
       "      <th>State</th>\n",
       "      <th>Subgroup</th>\n",
       "      <th>Phase</th>\n",
       "      <th>Time Period</th>\n",
       "      <th>Time Period Label</th>\n",
       "      <th>Time Period Start Date</th>\n",
       "      <th>Time Period End Date</th>\n",
       "      <th>Value</th>\n",
       "      <th>LowCI</th>\n",
       "      <th>HighCI</th>\n",
       "      <th>Confidence Interval</th>\n",
       "    </tr>\n",
       "  </thead>\n",
       "  <tbody>\n",
       "    <tr>\n",
       "      <th>0</th>\n",
       "      <td>Took Prescription Medication for Mental Health...</td>\n",
       "      <td>National Estimate</td>\n",
       "      <td>United States</td>\n",
       "      <td>United States</td>\n",
       "      <td>2</td>\n",
       "      <td>13</td>\n",
       "      <td>Aug 19 - Aug 31, 2020</td>\n",
       "      <td>08/19/2020</td>\n",
       "      <td>08/31/2020</td>\n",
       "      <td>19.4</td>\n",
       "      <td>19.0</td>\n",
       "      <td>19.8</td>\n",
       "      <td>19.0 - 19.8</td>\n",
       "    </tr>\n",
       "    <tr>\n",
       "      <th>1</th>\n",
       "      <td>Took Prescription Medication for Mental Health...</td>\n",
       "      <td>By Age</td>\n",
       "      <td>United States</td>\n",
       "      <td>18 - 29 years</td>\n",
       "      <td>2</td>\n",
       "      <td>13</td>\n",
       "      <td>Aug 19 - Aug 31, 2020</td>\n",
       "      <td>08/19/2020</td>\n",
       "      <td>08/31/2020</td>\n",
       "      <td>18.7</td>\n",
       "      <td>17.2</td>\n",
       "      <td>20.3</td>\n",
       "      <td>17.2 - 20.3</td>\n",
       "    </tr>\n",
       "    <tr>\n",
       "      <th>2</th>\n",
       "      <td>Took Prescription Medication for Mental Health...</td>\n",
       "      <td>By Age</td>\n",
       "      <td>United States</td>\n",
       "      <td>30 - 39 years</td>\n",
       "      <td>2</td>\n",
       "      <td>13</td>\n",
       "      <td>Aug 19 - Aug 31, 2020</td>\n",
       "      <td>08/19/2020</td>\n",
       "      <td>08/31/2020</td>\n",
       "      <td>18.3</td>\n",
       "      <td>17.3</td>\n",
       "      <td>19.2</td>\n",
       "      <td>17.3 - 19.2</td>\n",
       "    </tr>\n",
       "    <tr>\n",
       "      <th>3</th>\n",
       "      <td>Took Prescription Medication for Mental Health...</td>\n",
       "      <td>By Age</td>\n",
       "      <td>United States</td>\n",
       "      <td>40 - 49 years</td>\n",
       "      <td>2</td>\n",
       "      <td>13</td>\n",
       "      <td>Aug 19 - Aug 31, 2020</td>\n",
       "      <td>08/19/2020</td>\n",
       "      <td>08/31/2020</td>\n",
       "      <td>20.4</td>\n",
       "      <td>19.5</td>\n",
       "      <td>21.3</td>\n",
       "      <td>19.5 - 21.3</td>\n",
       "    </tr>\n",
       "    <tr>\n",
       "      <th>4</th>\n",
       "      <td>Took Prescription Medication for Mental Health...</td>\n",
       "      <td>By Age</td>\n",
       "      <td>United States</td>\n",
       "      <td>50 - 59 years</td>\n",
       "      <td>2</td>\n",
       "      <td>13</td>\n",
       "      <td>Aug 19 - Aug 31, 2020</td>\n",
       "      <td>08/19/2020</td>\n",
       "      <td>08/31/2020</td>\n",
       "      <td>21.2</td>\n",
       "      <td>20.2</td>\n",
       "      <td>22.2</td>\n",
       "      <td>20.2 - 22.2</td>\n",
       "    </tr>\n",
       "    <tr>\n",
       "      <th>...</th>\n",
       "      <td>...</td>\n",
       "      <td>...</td>\n",
       "      <td>...</td>\n",
       "      <td>...</td>\n",
       "      <td>...</td>\n",
       "      <td>...</td>\n",
       "      <td>...</td>\n",
       "      <td>...</td>\n",
       "      <td>...</td>\n",
       "      <td>...</td>\n",
       "      <td>...</td>\n",
       "      <td>...</td>\n",
       "      <td>...</td>\n",
       "    </tr>\n",
       "    <tr>\n",
       "      <th>10348</th>\n",
       "      <td>Needed Counseling or Therapy But Did Not Get I...</td>\n",
       "      <td>By Education</td>\n",
       "      <td>United States</td>\n",
       "      <td>High school diploma or GED</td>\n",
       "      <td>3.4</td>\n",
       "      <td>45</td>\n",
       "      <td>Apr 27 - May 9, 2022</td>\n",
       "      <td>04/27/2022</td>\n",
       "      <td>05/09/2022</td>\n",
       "      <td>9.1</td>\n",
       "      <td>7.7</td>\n",
       "      <td>10.5</td>\n",
       "      <td>7.7 - 10.5</td>\n",
       "    </tr>\n",
       "    <tr>\n",
       "      <th>10349</th>\n",
       "      <td>Needed Counseling or Therapy But Did Not Get I...</td>\n",
       "      <td>By Education</td>\n",
       "      <td>United States</td>\n",
       "      <td>Some college/Associate's degree</td>\n",
       "      <td>3.4</td>\n",
       "      <td>45</td>\n",
       "      <td>Apr 27 - May 9, 2022</td>\n",
       "      <td>04/27/2022</td>\n",
       "      <td>05/09/2022</td>\n",
       "      <td>15.1</td>\n",
       "      <td>14.0</td>\n",
       "      <td>16.2</td>\n",
       "      <td>14.0 - 16.2</td>\n",
       "    </tr>\n",
       "    <tr>\n",
       "      <th>10350</th>\n",
       "      <td>Needed Counseling or Therapy But Did Not Get I...</td>\n",
       "      <td>By Education</td>\n",
       "      <td>United States</td>\n",
       "      <td>Bachelor's degree or higher</td>\n",
       "      <td>3.4</td>\n",
       "      <td>45</td>\n",
       "      <td>Apr 27 - May 9, 2022</td>\n",
       "      <td>04/27/2022</td>\n",
       "      <td>05/09/2022</td>\n",
       "      <td>10.4</td>\n",
       "      <td>9.8</td>\n",
       "      <td>11.0</td>\n",
       "      <td>9.8 - 11.0</td>\n",
       "    </tr>\n",
       "    <tr>\n",
       "      <th>10351</th>\n",
       "      <td>Needed Counseling or Therapy But Did Not Get I...</td>\n",
       "      <td>By Disability status</td>\n",
       "      <td>United States</td>\n",
       "      <td>With disability</td>\n",
       "      <td>3.4</td>\n",
       "      <td>45</td>\n",
       "      <td>Apr 27 - May 9, 2022</td>\n",
       "      <td>04/27/2022</td>\n",
       "      <td>05/09/2022</td>\n",
       "      <td>25.3</td>\n",
       "      <td>23.3</td>\n",
       "      <td>27.4</td>\n",
       "      <td>23.3 - 27.4</td>\n",
       "    </tr>\n",
       "    <tr>\n",
       "      <th>10352</th>\n",
       "      <td>Needed Counseling or Therapy But Did Not Get I...</td>\n",
       "      <td>By Disability status</td>\n",
       "      <td>United States</td>\n",
       "      <td>Without disability</td>\n",
       "      <td>3.4</td>\n",
       "      <td>45</td>\n",
       "      <td>Apr 27 - May 9, 2022</td>\n",
       "      <td>04/27/2022</td>\n",
       "      <td>05/09/2022</td>\n",
       "      <td>9.1</td>\n",
       "      <td>8.5</td>\n",
       "      <td>9.7</td>\n",
       "      <td>8.5 - 9.7</td>\n",
       "    </tr>\n",
       "  </tbody>\n",
       "</table>\n",
       "<p>3672 rows × 13 columns</p>\n",
       "</div>"
      ],
      "text/plain": [
       "                                               Indicator  \\\n",
       "0      Took Prescription Medication for Mental Health...   \n",
       "1      Took Prescription Medication for Mental Health...   \n",
       "2      Took Prescription Medication for Mental Health...   \n",
       "3      Took Prescription Medication for Mental Health...   \n",
       "4      Took Prescription Medication for Mental Health...   \n",
       "...                                                  ...   \n",
       "10348  Needed Counseling or Therapy But Did Not Get I...   \n",
       "10349  Needed Counseling or Therapy But Did Not Get I...   \n",
       "10350  Needed Counseling or Therapy But Did Not Get I...   \n",
       "10351  Needed Counseling or Therapy But Did Not Get I...   \n",
       "10352  Needed Counseling or Therapy But Did Not Get I...   \n",
       "\n",
       "                      Group          State                         Subgroup  \\\n",
       "0         National Estimate  United States                    United States   \n",
       "1                    By Age  United States                    18 - 29 years   \n",
       "2                    By Age  United States                    30 - 39 years   \n",
       "3                    By Age  United States                    40 - 49 years   \n",
       "4                    By Age  United States                    50 - 59 years   \n",
       "...                     ...            ...                              ...   \n",
       "10348          By Education  United States       High school diploma or GED   \n",
       "10349          By Education  United States  Some college/Associate's degree   \n",
       "10350          By Education  United States      Bachelor's degree or higher   \n",
       "10351  By Disability status  United States                  With disability   \n",
       "10352  By Disability status  United States               Without disability   \n",
       "\n",
       "      Phase  Time Period      Time Period Label Time Period Start Date  \\\n",
       "0         2           13  Aug 19 - Aug 31, 2020             08/19/2020   \n",
       "1         2           13  Aug 19 - Aug 31, 2020             08/19/2020   \n",
       "2         2           13  Aug 19 - Aug 31, 2020             08/19/2020   \n",
       "3         2           13  Aug 19 - Aug 31, 2020             08/19/2020   \n",
       "4         2           13  Aug 19 - Aug 31, 2020             08/19/2020   \n",
       "...     ...          ...                    ...                    ...   \n",
       "10348   3.4           45   Apr 27 - May 9, 2022             04/27/2022   \n",
       "10349   3.4           45   Apr 27 - May 9, 2022             04/27/2022   \n",
       "10350   3.4           45   Apr 27 - May 9, 2022             04/27/2022   \n",
       "10351   3.4           45   Apr 27 - May 9, 2022             04/27/2022   \n",
       "10352   3.4           45   Apr 27 - May 9, 2022             04/27/2022   \n",
       "\n",
       "      Time Period End Date  Value  LowCI  HighCI Confidence Interval  \n",
       "0               08/31/2020   19.4   19.0    19.8         19.0 - 19.8  \n",
       "1               08/31/2020   18.7   17.2    20.3         17.2 - 20.3  \n",
       "2               08/31/2020   18.3   17.3    19.2         17.3 - 19.2  \n",
       "3               08/31/2020   20.4   19.5    21.3         19.5 - 21.3  \n",
       "4               08/31/2020   21.2   20.2    22.2         20.2 - 22.2  \n",
       "...                    ...    ...    ...     ...                 ...  \n",
       "10348           05/09/2022    9.1    7.7    10.5          7.7 - 10.5  \n",
       "10349           05/09/2022   15.1   14.0    16.2         14.0 - 16.2  \n",
       "10350           05/09/2022   10.4    9.8    11.0          9.8 - 11.0  \n",
       "10351           05/09/2022   25.3   23.3    27.4         23.3 - 27.4  \n",
       "10352           05/09/2022    9.1    8.5     9.7           8.5 - 9.7  \n",
       "\n",
       "[3672 rows x 13 columns]"
      ]
     },
     "execution_count": 27,
     "metadata": {},
     "output_type": "execute_result"
    }
   ],
   "source": [
    "dat=data[data[\"State\"]==\"United States\"]\n",
    "dat"
   ]
  },
  {
   "cell_type": "code",
   "execution_count": 28,
   "id": "30db5182",
   "metadata": {
    "execution": {
     "iopub.execute_input": "2023-01-14T19:16:00.388213Z",
     "iopub.status.busy": "2023-01-14T19:16:00.387409Z",
     "iopub.status.idle": "2023-01-14T19:16:00.394840Z",
     "shell.execute_reply": "2023-01-14T19:16:00.393696Z"
    },
    "papermill": {
     "duration": 0.032049,
     "end_time": "2023-01-14T19:16:00.397155",
     "exception": false,
     "start_time": "2023-01-14T19:16:00.365106",
     "status": "completed"
    },
    "tags": []
   },
   "outputs": [
    {
     "data": {
      "text/plain": [
       "Index(['Indicator', 'Group', 'State', 'Subgroup', 'Phase', 'Time Period',\n",
       "       'Time Period Label', 'Time Period Start Date', 'Time Period End Date',\n",
       "       'Value', 'LowCI', 'HighCI', 'Confidence Interval'],\n",
       "      dtype='object')"
      ]
     },
     "execution_count": 28,
     "metadata": {},
     "output_type": "execute_result"
    }
   ],
   "source": [
    "data.columns"
   ]
  },
  {
   "cell_type": "code",
   "execution_count": 29,
   "id": "eb9ccdd7",
   "metadata": {
    "execution": {
     "iopub.execute_input": "2023-01-14T19:16:00.442082Z",
     "iopub.status.busy": "2023-01-14T19:16:00.441648Z",
     "iopub.status.idle": "2023-01-14T19:16:00.457549Z",
     "shell.execute_reply": "2023-01-14T19:16:00.456565Z"
    },
    "papermill": {
     "duration": 0.041757,
     "end_time": "2023-01-14T19:16:00.460208",
     "exception": false,
     "start_time": "2023-01-14T19:16:00.418451",
     "status": "completed"
    },
    "tags": []
   },
   "outputs": [],
   "source": [
    "Indicators = pd.DataFrame(data.groupby(\"Indicator\")[\"Value\"].sum())\n",
    "Groups=pd.DataFrame(data.groupby(\"Group\")[\"Value\"].sum())\n",
    "States=pd.DataFrame(data.groupby(\"State\")[\"Value\"].sum())\n",
    "Subgroups=pd.DataFrame(data.groupby(\"Subgroup\")[\"Value\"].sum())\n",
    "\n"
   ]
  },
  {
   "cell_type": "code",
   "execution_count": 30,
   "id": "00440962",
   "metadata": {
    "execution": {
     "iopub.execute_input": "2023-01-14T19:16:00.504587Z",
     "iopub.status.busy": "2023-01-14T19:16:00.504143Z",
     "iopub.status.idle": "2023-01-14T19:16:00.515304Z",
     "shell.execute_reply": "2023-01-14T19:16:00.514299Z"
    },
    "papermill": {
     "duration": 0.036233,
     "end_time": "2023-01-14T19:16:00.517746",
     "exception": false,
     "start_time": "2023-01-14T19:16:00.481513",
     "status": "completed"
    },
    "tags": []
   },
   "outputs": [],
   "source": [
    "Indicators=pd.DataFrame(Indicators.reset_index())\n",
    "Indicators.columns=(\"Indicator\", \"Value\")\n",
    "Groups=pd.DataFrame(Groups.reset_index())\n",
    "Groups.columns=(\"Group\", \"Value\")\n",
    "States=pd.DataFrame(States.reset_index())\n",
    "States.columns=(\"State\", \"Value\")\n",
    "Subgroups=pd.DataFrame(Subgroups.reset_index())\n",
    "Subgroups.columns=(\"Subgroup\", \"Value\")\n",
    "\n"
   ]
  },
  {
   "cell_type": "code",
   "execution_count": 31,
   "id": "13869fe8",
   "metadata": {
    "execution": {
     "iopub.execute_input": "2023-01-14T19:16:00.562923Z",
     "iopub.status.busy": "2023-01-14T19:16:00.562454Z",
     "iopub.status.idle": "2023-01-14T19:16:00.570888Z",
     "shell.execute_reply": "2023-01-14T19:16:00.569769Z"
    },
    "papermill": {
     "duration": 0.034548,
     "end_time": "2023-01-14T19:16:00.573398",
     "exception": false,
     "start_time": "2023-01-14T19:16:00.538850",
     "status": "completed"
    },
    "tags": []
   },
   "outputs": [
    {
     "data": {
      "text/plain": [
       "0    Needed Counseling or Therapy But Did Not Get I...\n",
       "1         Received Counseling or Therapy, Last 4 Weeks\n",
       "2    Took Prescription Medication for Mental Health...\n",
       "3    Took Prescription Medication for Mental Health...\n",
       "Name: Indicator, dtype: object"
      ]
     },
     "execution_count": 31,
     "metadata": {},
     "output_type": "execute_result"
    }
   ],
   "source": [
    "Indicators[\"Indicator\"]"
   ]
  },
  {
   "cell_type": "code",
   "execution_count": 32,
   "id": "a77fbc07",
   "metadata": {
    "execution": {
     "iopub.execute_input": "2023-01-14T19:16:00.618895Z",
     "iopub.status.busy": "2023-01-14T19:16:00.618453Z",
     "iopub.status.idle": "2023-01-14T19:16:00.636591Z",
     "shell.execute_reply": "2023-01-14T19:16:00.635559Z"
    },
    "papermill": {
     "duration": 0.044113,
     "end_time": "2023-01-14T19:16:00.638994",
     "exception": false,
     "start_time": "2023-01-14T19:16:00.594881",
     "status": "completed"
    },
    "tags": []
   },
   "outputs": [
    {
     "data": {
      "text/html": [
       "<div>\n",
       "<style scoped>\n",
       "    .dataframe tbody tr th:only-of-type {\n",
       "        vertical-align: middle;\n",
       "    }\n",
       "\n",
       "    .dataframe tbody tr th {\n",
       "        vertical-align: top;\n",
       "    }\n",
       "\n",
       "    .dataframe thead th {\n",
       "        text-align: right;\n",
       "    }\n",
       "</style>\n",
       "<table border=\"1\" class=\"dataframe\">\n",
       "  <thead>\n",
       "    <tr style=\"text-align: right;\">\n",
       "      <th></th>\n",
       "      <th>State</th>\n",
       "      <th>Value</th>\n",
       "    </tr>\n",
       "  </thead>\n",
       "  <tbody>\n",
       "    <tr>\n",
       "      <th>0</th>\n",
       "      <td>Alabama</td>\n",
       "      <td>2383.9</td>\n",
       "    </tr>\n",
       "    <tr>\n",
       "      <th>1</th>\n",
       "      <td>Alaska</td>\n",
       "      <td>2055.4</td>\n",
       "    </tr>\n",
       "    <tr>\n",
       "      <th>2</th>\n",
       "      <td>Arizona</td>\n",
       "      <td>2105.5</td>\n",
       "    </tr>\n",
       "    <tr>\n",
       "      <th>3</th>\n",
       "      <td>Arkansas</td>\n",
       "      <td>2469.8</td>\n",
       "    </tr>\n",
       "    <tr>\n",
       "      <th>4</th>\n",
       "      <td>California</td>\n",
       "      <td>1999.2</td>\n",
       "    </tr>\n",
       "    <tr>\n",
       "      <th>5</th>\n",
       "      <td>Colorado</td>\n",
       "      <td>2413.6</td>\n",
       "    </tr>\n",
       "    <tr>\n",
       "      <th>6</th>\n",
       "      <td>Connecticut</td>\n",
       "      <td>2293.8</td>\n",
       "    </tr>\n",
       "    <tr>\n",
       "      <th>7</th>\n",
       "      <td>Delaware</td>\n",
       "      <td>2179.2</td>\n",
       "    </tr>\n",
       "    <tr>\n",
       "      <th>8</th>\n",
       "      <td>District of Columbia</td>\n",
       "      <td>2619.7</td>\n",
       "    </tr>\n",
       "    <tr>\n",
       "      <th>9</th>\n",
       "      <td>Florida</td>\n",
       "      <td>1996.2</td>\n",
       "    </tr>\n",
       "    <tr>\n",
       "      <th>10</th>\n",
       "      <td>Georgia</td>\n",
       "      <td>2187.2</td>\n",
       "    </tr>\n",
       "    <tr>\n",
       "      <th>11</th>\n",
       "      <td>Hawaii</td>\n",
       "      <td>1518.4</td>\n",
       "    </tr>\n",
       "    <tr>\n",
       "      <th>12</th>\n",
       "      <td>Idaho</td>\n",
       "      <td>2359.7</td>\n",
       "    </tr>\n",
       "    <tr>\n",
       "      <th>13</th>\n",
       "      <td>Illinois</td>\n",
       "      <td>2196.1</td>\n",
       "    </tr>\n",
       "    <tr>\n",
       "      <th>14</th>\n",
       "      <td>Indiana</td>\n",
       "      <td>2412.7</td>\n",
       "    </tr>\n",
       "    <tr>\n",
       "      <th>15</th>\n",
       "      <td>Iowa</td>\n",
       "      <td>2380.9</td>\n",
       "    </tr>\n",
       "    <tr>\n",
       "      <th>16</th>\n",
       "      <td>Kansas</td>\n",
       "      <td>2365.1</td>\n",
       "    </tr>\n",
       "    <tr>\n",
       "      <th>17</th>\n",
       "      <td>Kentucky</td>\n",
       "      <td>2560.7</td>\n",
       "    </tr>\n",
       "    <tr>\n",
       "      <th>18</th>\n",
       "      <td>Louisiana</td>\n",
       "      <td>2431.2</td>\n",
       "    </tr>\n",
       "    <tr>\n",
       "      <th>19</th>\n",
       "      <td>Maine</td>\n",
       "      <td>2555.8</td>\n",
       "    </tr>\n",
       "    <tr>\n",
       "      <th>20</th>\n",
       "      <td>Maryland</td>\n",
       "      <td>2238.3</td>\n",
       "    </tr>\n",
       "    <tr>\n",
       "      <th>21</th>\n",
       "      <td>Massachusetts</td>\n",
       "      <td>2549.8</td>\n",
       "    </tr>\n",
       "    <tr>\n",
       "      <th>22</th>\n",
       "      <td>Michigan</td>\n",
       "      <td>2327.7</td>\n",
       "    </tr>\n",
       "    <tr>\n",
       "      <th>23</th>\n",
       "      <td>Minnesota</td>\n",
       "      <td>2386.9</td>\n",
       "    </tr>\n",
       "    <tr>\n",
       "      <th>24</th>\n",
       "      <td>Mississippi</td>\n",
       "      <td>2206.0</td>\n",
       "    </tr>\n",
       "    <tr>\n",
       "      <th>25</th>\n",
       "      <td>Missouri</td>\n",
       "      <td>2423.3</td>\n",
       "    </tr>\n",
       "    <tr>\n",
       "      <th>26</th>\n",
       "      <td>Montana</td>\n",
       "      <td>2238.7</td>\n",
       "    </tr>\n",
       "    <tr>\n",
       "      <th>27</th>\n",
       "      <td>Nebraska</td>\n",
       "      <td>2285.9</td>\n",
       "    </tr>\n",
       "    <tr>\n",
       "      <th>28</th>\n",
       "      <td>Nevada</td>\n",
       "      <td>1909.9</td>\n",
       "    </tr>\n",
       "    <tr>\n",
       "      <th>29</th>\n",
       "      <td>New Hampshire</td>\n",
       "      <td>2376.3</td>\n",
       "    </tr>\n",
       "    <tr>\n",
       "      <th>30</th>\n",
       "      <td>New Jersey</td>\n",
       "      <td>1951.5</td>\n",
       "    </tr>\n",
       "    <tr>\n",
       "      <th>31</th>\n",
       "      <td>New Mexico</td>\n",
       "      <td>2238.1</td>\n",
       "    </tr>\n",
       "    <tr>\n",
       "      <th>32</th>\n",
       "      <td>New York</td>\n",
       "      <td>2097.7</td>\n",
       "    </tr>\n",
       "    <tr>\n",
       "      <th>33</th>\n",
       "      <td>North Carolina</td>\n",
       "      <td>2337.6</td>\n",
       "    </tr>\n",
       "    <tr>\n",
       "      <th>34</th>\n",
       "      <td>North Dakota</td>\n",
       "      <td>2105.1</td>\n",
       "    </tr>\n",
       "    <tr>\n",
       "      <th>35</th>\n",
       "      <td>Ohio</td>\n",
       "      <td>2329.7</td>\n",
       "    </tr>\n",
       "    <tr>\n",
       "      <th>36</th>\n",
       "      <td>Oklahoma</td>\n",
       "      <td>2496.0</td>\n",
       "    </tr>\n",
       "    <tr>\n",
       "      <th>37</th>\n",
       "      <td>Oregon</td>\n",
       "      <td>2622.3</td>\n",
       "    </tr>\n",
       "    <tr>\n",
       "      <th>38</th>\n",
       "      <td>Pennsylvania</td>\n",
       "      <td>2368.5</td>\n",
       "    </tr>\n",
       "    <tr>\n",
       "      <th>39</th>\n",
       "      <td>Rhode Island</td>\n",
       "      <td>2587.8</td>\n",
       "    </tr>\n",
       "    <tr>\n",
       "      <th>40</th>\n",
       "      <td>South Carolina</td>\n",
       "      <td>2252.7</td>\n",
       "    </tr>\n",
       "    <tr>\n",
       "      <th>41</th>\n",
       "      <td>South Dakota</td>\n",
       "      <td>2039.2</td>\n",
       "    </tr>\n",
       "    <tr>\n",
       "      <th>42</th>\n",
       "      <td>Tennessee</td>\n",
       "      <td>2331.1</td>\n",
       "    </tr>\n",
       "    <tr>\n",
       "      <th>43</th>\n",
       "      <td>Texas</td>\n",
       "      <td>2023.4</td>\n",
       "    </tr>\n",
       "    <tr>\n",
       "      <th>45</th>\n",
       "      <td>Utah</td>\n",
       "      <td>2650.9</td>\n",
       "    </tr>\n",
       "    <tr>\n",
       "      <th>46</th>\n",
       "      <td>Vermont</td>\n",
       "      <td>2536.3</td>\n",
       "    </tr>\n",
       "    <tr>\n",
       "      <th>47</th>\n",
       "      <td>Virginia</td>\n",
       "      <td>2204.5</td>\n",
       "    </tr>\n",
       "    <tr>\n",
       "      <th>48</th>\n",
       "      <td>Washington</td>\n",
       "      <td>2410.6</td>\n",
       "    </tr>\n",
       "    <tr>\n",
       "      <th>49</th>\n",
       "      <td>West Virginia</td>\n",
       "      <td>2605.1</td>\n",
       "    </tr>\n",
       "    <tr>\n",
       "      <th>50</th>\n",
       "      <td>Wisconsin</td>\n",
       "      <td>2212.7</td>\n",
       "    </tr>\n",
       "    <tr>\n",
       "      <th>51</th>\n",
       "      <td>Wyoming</td>\n",
       "      <td>2045.2</td>\n",
       "    </tr>\n",
       "  </tbody>\n",
       "</table>\n",
       "</div>"
      ],
      "text/plain": [
       "                   State   Value\n",
       "0                Alabama  2383.9\n",
       "1                 Alaska  2055.4\n",
       "2                Arizona  2105.5\n",
       "3               Arkansas  2469.8\n",
       "4             California  1999.2\n",
       "5               Colorado  2413.6\n",
       "6            Connecticut  2293.8\n",
       "7               Delaware  2179.2\n",
       "8   District of Columbia  2619.7\n",
       "9                Florida  1996.2\n",
       "10               Georgia  2187.2\n",
       "11                Hawaii  1518.4\n",
       "12                 Idaho  2359.7\n",
       "13              Illinois  2196.1\n",
       "14               Indiana  2412.7\n",
       "15                  Iowa  2380.9\n",
       "16                Kansas  2365.1\n",
       "17              Kentucky  2560.7\n",
       "18             Louisiana  2431.2\n",
       "19                 Maine  2555.8\n",
       "20              Maryland  2238.3\n",
       "21         Massachusetts  2549.8\n",
       "22              Michigan  2327.7\n",
       "23             Minnesota  2386.9\n",
       "24           Mississippi  2206.0\n",
       "25              Missouri  2423.3\n",
       "26               Montana  2238.7\n",
       "27              Nebraska  2285.9\n",
       "28                Nevada  1909.9\n",
       "29         New Hampshire  2376.3\n",
       "30            New Jersey  1951.5\n",
       "31            New Mexico  2238.1\n",
       "32              New York  2097.7\n",
       "33        North Carolina  2337.6\n",
       "34          North Dakota  2105.1\n",
       "35                  Ohio  2329.7\n",
       "36              Oklahoma  2496.0\n",
       "37                Oregon  2622.3\n",
       "38          Pennsylvania  2368.5\n",
       "39          Rhode Island  2587.8\n",
       "40        South Carolina  2252.7\n",
       "41          South Dakota  2039.2\n",
       "42             Tennessee  2331.1\n",
       "43                 Texas  2023.4\n",
       "45                  Utah  2650.9\n",
       "46               Vermont  2536.3\n",
       "47              Virginia  2204.5\n",
       "48            Washington  2410.6\n",
       "49         West Virginia  2605.1\n",
       "50             Wisconsin  2212.7\n",
       "51               Wyoming  2045.2"
      ]
     },
     "execution_count": 32,
     "metadata": {},
     "output_type": "execute_result"
    }
   ],
   "source": [
    "States=States.drop(44)\n",
    "States"
   ]
  },
  {
   "cell_type": "code",
   "execution_count": 33,
   "id": "a07de578",
   "metadata": {
    "execution": {
     "iopub.execute_input": "2023-01-14T19:16:00.685372Z",
     "iopub.status.busy": "2023-01-14T19:16:00.684939Z",
     "iopub.status.idle": "2023-01-14T19:16:02.257892Z",
     "shell.execute_reply": "2023-01-14T19:16:02.256559Z"
    },
    "papermill": {
     "duration": 1.601304,
     "end_time": "2023-01-14T19:16:02.262396",
     "exception": false,
     "start_time": "2023-01-14T19:16:00.661092",
     "status": "completed"
    },
    "tags": []
   },
   "outputs": [
    {
     "data": {
      "image/png": "[encoded data removed]",
      "text/plain": [
       "<Figure size 1296x1152 with 1 Axes>"
      ]
     },
     "metadata": {
      "needs_background": "light"
     },
     "output_type": "display_data"
    },
    {
     "data": {
      "image/png": "[encoded data removed]",
      "text/plain": [
       "<Figure size 1296x1152 with 1 Axes>"
      ]
     },
     "metadata": {},
     "output_type": "display_data"
    }
   ],
   "source": [
    "fig=plt.figure(figsize=(18,16))\n",
    "ax=sns.barplot(x=\"Indicator\", y=\"Value\", data=Indicators, order=Indicators.sort_values('Value', ascending=False).Indicator)\n",
    "sns.set_theme(style=\"darkgrid\")\n",
    "plt.title(\"MENTAL HEALTH INDICATORS\", fontsize=15, color=\"blue\")\n",
    "plt.xticks(rotation=90, fontsize=15)\n",
    "plt.xlabel(\"Indicators\", fontsize=15, color=\"blue\")\n",
    "plt.ylabel(\"Values\", fontsize=15, color=\"blue\")\n",
    "for i in ax.containers:\n",
    "    ax.bar_label(i,)\n",
    "\n",
    "fig3=plt.figure(figsize=(18,16))\n",
    "x=\"Value\"\n",
    "ax=sns.barplot(x=\"Value\", y=\"State\", data=States, order=States.sort_values('Value', ascending=False).State)\n",
    "sns.set_theme(style=\"darkgrid\")\n",
    "plt.yticks(fontsize=15)\n",
    "plt.title(\"MENTAL CASES BY STATES\", fontsize=15, color=\"blue\")\n",
    "plt.xlabel(\"VALUES\", fontsize=15, color=\"blue\")\n",
    "plt.ylabel(\"STATES\", fontsize=15, color=\"blue\")\n",
    "for i in ax.containers:\n",
    "    ax.bar_label(i,)\n",
    "plt.show()\n",
    "\n",
    "\n",
    "\n"
   ]
  },
  {
   "cell_type": "markdown",
   "id": "a55a4eef",
   "metadata": {
    "papermill": {
     "duration": 0.0261,
     "end_time": "2023-01-14T19:16:02.315901",
     "exception": false,
     "start_time": "2023-01-14T19:16:02.289801",
     "status": "completed"
    },
    "tags": []
   },
   "source": [
    "According to the indicators, some people needed counseling or therapy but did not get one. So we will calculate the percentage of such population"
   ]
  },
  {
   "cell_type": "code",
   "execution_count": 34,
   "id": "d365bac2",
   "metadata": {
    "execution": {
     "iopub.execute_input": "2023-01-14T19:16:02.370633Z",
     "iopub.status.busy": "2023-01-14T19:16:02.370169Z",
     "iopub.status.idle": "2023-01-14T19:16:02.377988Z",
     "shell.execute_reply": "2023-01-14T19:16:02.376810Z"
    },
    "papermill": {
     "duration": 0.038322,
     "end_time": "2023-01-14T19:16:02.380423",
     "exception": false,
     "start_time": "2023-01-14T19:16:02.342101",
     "status": "completed"
    },
    "tags": []
   },
   "outputs": [
    {
     "data": {
      "text/plain": [
       "172802.9"
      ]
     },
     "execution_count": 34,
     "metadata": {},
     "output_type": "execute_result"
    }
   ],
   "source": [
    "TotalSumIndicators=Indicators[\"Value\"].sum()\n",
    "TotalSumIndicators"
   ]
  },
  {
   "cell_type": "code",
   "execution_count": 35,
   "id": "bfc7ce06",
   "metadata": {
    "execution": {
     "iopub.execute_input": "2023-01-14T19:16:02.435478Z",
     "iopub.status.busy": "2023-01-14T19:16:02.435001Z",
     "iopub.status.idle": "2023-01-14T19:16:02.441881Z",
     "shell.execute_reply": "2023-01-14T19:16:02.440995Z"
    },
    "papermill": {
     "duration": 0.037212,
     "end_time": "2023-01-14T19:16:02.444016",
     "exception": false,
     "start_time": "2023-01-14T19:16:02.406804",
     "status": "completed"
    },
    "tags": []
   },
   "outputs": [
    {
     "data": {
      "text/plain": [
       "116872.9"
      ]
     },
     "execution_count": 35,
     "metadata": {},
     "output_type": "execute_result"
    }
   ],
   "source": [
    "# we can see that TotalSumIndicators=116872.9\n",
    "TotalSumIndicators=116872.9\n",
    "TotalSumIndicators"
   ]
  },
  {
   "cell_type": "markdown",
   "id": "1763b118",
   "metadata": {
    "papermill": {
     "duration": 0.026256,
     "end_time": "2023-01-14T19:16:02.497184",
     "exception": false,
     "start_time": "2023-01-14T19:16:02.470928",
     "status": "completed"
    },
    "tags": []
   },
   "source": []
  },
  {
   "cell_type": "markdown",
   "id": "f7eb55f8",
   "metadata": {
    "papermill": {
     "duration": 0.026431,
     "end_time": "2023-01-14T19:16:02.549993",
     "exception": false,
     "start_time": "2023-01-14T19:16:02.523562",
     "status": "completed"
    },
    "tags": []
   },
   "source": [
    "Needed Counseling or Therapy But Did Not Get It, Last 4 Weeks(NC)"
   ]
  },
  {
   "cell_type": "code",
   "execution_count": 36,
   "id": "4b2a0365",
   "metadata": {
    "execution": {
     "iopub.execute_input": "2023-01-14T19:16:02.606171Z",
     "iopub.status.busy": "2023-01-14T19:16:02.604923Z",
     "iopub.status.idle": "2023-01-14T19:16:02.613849Z",
     "shell.execute_reply": "2023-01-14T19:16:02.612341Z"
    },
    "papermill": {
     "duration": 0.039972,
     "end_time": "2023-01-14T19:16:02.616323",
     "exception": false,
     "start_time": "2023-01-14T19:16:02.576351",
     "status": "completed"
    },
    "tags": []
   },
   "outputs": [],
   "source": [
    "SumofNC=Indicators[Indicators[\"Indicator\"]==\"Needed Counseling or Therapy But Did Not Get It, Last 4 Weeks\"]\n",
    "SumofNC=SumofNC.sum()\n",
    "SumofNC=18023.8\n",
    "\n"
   ]
  },
  {
   "cell_type": "code",
   "execution_count": 37,
   "id": "673e2452",
   "metadata": {
    "execution": {
     "iopub.execute_input": "2023-01-14T19:16:02.674031Z",
     "iopub.status.busy": "2023-01-14T19:16:02.672876Z",
     "iopub.status.idle": "2023-01-14T19:16:02.680359Z",
     "shell.execute_reply": "2023-01-14T19:16:02.679470Z"
    },
    "papermill": {
     "duration": 0.039289,
     "end_time": "2023-01-14T19:16:02.682467",
     "exception": false,
     "start_time": "2023-01-14T19:16:02.643178",
     "status": "completed"
    },
    "tags": []
   },
   "outputs": [
    {
     "data": {
      "text/plain": [
       "18023.8"
      ]
     },
     "execution_count": 37,
     "metadata": {},
     "output_type": "execute_result"
    }
   ],
   "source": [
    "#we can see that SumofNC=18023.8\n",
    "SumofNC=18023.8\n",
    "SumofNC"
   ]
  },
  {
   "cell_type": "markdown",
   "id": "79499aca",
   "metadata": {
    "papermill": {
     "duration": 0.026463,
     "end_time": "2023-01-14T19:16:02.735872",
     "exception": false,
     "start_time": "2023-01-14T19:16:02.709409",
     "status": "completed"
    },
    "tags": []
   },
   "source": [
    "% of those that  Needed Counseling or Therapy But Did Not Get It, Last 4 Weeks vs Others(opposite)"
   ]
  },
  {
   "cell_type": "code",
   "execution_count": 38,
   "id": "86145960",
   "metadata": {
    "execution": {
     "iopub.execute_input": "2023-01-14T19:16:02.792246Z",
     "iopub.status.busy": "2023-01-14T19:16:02.791503Z",
     "iopub.status.idle": "2023-01-14T19:16:02.798034Z",
     "shell.execute_reply": "2023-01-14T19:16:02.796423Z"
    },
    "papermill": {
     "duration": 0.037559,
     "end_time": "2023-01-14T19:16:02.800572",
     "exception": false,
     "start_time": "2023-01-14T19:16:02.763013",
     "status": "completed"
    },
    "tags": []
   },
   "outputs": [
    {
     "name": "stdout",
     "output_type": "stream",
     "text": [
      "15 %\n"
     ]
    }
   ],
   "source": [
    "\n",
    "percentageNC=(SumofNC/TotalSumIndicators)*100\n",
    "percentageNC=round(percentageNC)\n",
    "percentageNC=print(percentageNC,\"%\")\n",
    "percentageNC"
   ]
  },
  {
   "cell_type": "markdown",
   "id": "7ebf2c73",
   "metadata": {
    "papermill": {
     "duration": 0.026475,
     "end_time": "2023-01-14T19:16:02.854027",
     "exception": false,
     "start_time": "2023-01-14T19:16:02.827552",
     "status": "completed"
    },
    "tags": []
   },
   "source": [
    "If the *% of those that needed counseling or therapy but did not get any* was (15%), the % of other 3 indicators combined will be (85%):\n",
    "        *'Took Prescription Medication for Mental Health, Last 4 Weeks'*,\n",
    "       *'Received Counseling or Therapy, Last 4 Weeks'*,\n",
    "       *'Took Prescription Medication for Mental Health And/Or Received Counseling or \n",
    "          Therapy, Last 4 Weeks',*"
   ]
  },
  {
   "cell_type": "code",
   "execution_count": 39,
   "id": "b0311a21",
   "metadata": {
    "execution": {
     "iopub.execute_input": "2023-01-14T19:16:02.909593Z",
     "iopub.status.busy": "2023-01-14T19:16:02.909142Z",
     "iopub.status.idle": "2023-01-14T19:16:02.921261Z",
     "shell.execute_reply": "2023-01-14T19:16:02.920054Z"
    },
    "papermill": {
     "duration": 0.042584,
     "end_time": "2023-01-14T19:16:02.923622",
     "exception": false,
     "start_time": "2023-01-14T19:16:02.881038",
     "status": "completed"
    },
    "tags": []
   },
   "outputs": [
    {
     "data": {
      "text/html": [
       "<div>\n",
       "<style scoped>\n",
       "    .dataframe tbody tr th:only-of-type {\n",
       "        vertical-align: middle;\n",
       "    }\n",
       "\n",
       "    .dataframe tbody tr th {\n",
       "        vertical-align: top;\n",
       "    }\n",
       "\n",
       "    .dataframe thead th {\n",
       "        text-align: right;\n",
       "    }\n",
       "</style>\n",
       "<table border=\"1\" class=\"dataframe\">\n",
       "  <thead>\n",
       "    <tr style=\"text-align: right;\">\n",
       "      <th></th>\n",
       "      <th>percentagNC</th>\n",
       "      <th>others</th>\n",
       "    </tr>\n",
       "  </thead>\n",
       "  <tbody>\n",
       "    <tr>\n",
       "      <th>0</th>\n",
       "      <td>15</td>\n",
       "      <td>85</td>\n",
       "    </tr>\n",
       "  </tbody>\n",
       "</table>\n",
       "</div>"
      ],
      "text/plain": [
       "   percentagNC  others\n",
       "0           15      85"
      ]
     },
     "execution_count": 39,
     "metadata": {},
     "output_type": "execute_result"
    }
   ],
   "source": [
    "Others=85\n",
    "percentageNC=15\n",
    "fra=pd.DataFrame([Others],[percentageNC])\n",
    "fra=fra.reset_index()\n",
    "fra.columns=(\"percentagNC\",\"others\")\n",
    "fra"
   ]
  },
  {
   "cell_type": "code",
   "execution_count": 40,
   "id": "db40811d",
   "metadata": {
    "execution": {
     "iopub.execute_input": "2023-01-14T19:16:02.980020Z",
     "iopub.status.busy": "2023-01-14T19:16:02.979558Z",
     "iopub.status.idle": "2023-01-14T19:16:03.166987Z",
     "shell.execute_reply": "2023-01-14T19:16:03.165823Z"
    },
    "papermill": {
     "duration": 0.218976,
     "end_time": "2023-01-14T19:16:03.169551",
     "exception": false,
     "start_time": "2023-01-14T19:16:02.950575",
     "status": "completed"
    },
    "tags": []
   },
   "outputs": [
    {
     "data": {
      "image/png": "[encoded data removed]",
      "text/plain": [
       "<Figure size 720x432 with 1 Axes>"
      ]
     },
     "metadata": {},
     "output_type": "display_data"
    }
   ],
   "source": [
    "\n",
    "bar,ax = plt.subplots(figsize=(10,6))\n",
    "\n",
    "ax = sns.barplot( data=fra,orient='h' )\n",
    "for i in ax.containers:\n",
    "    ax.bar_label(i,)\n",
    "plt.show()"
   ]
  },
  {
   "cell_type": "code",
   "execution_count": 41,
   "id": "75549484",
   "metadata": {
    "execution": {
     "iopub.execute_input": "2023-01-14T19:16:03.227051Z",
     "iopub.status.busy": "2023-01-14T19:16:03.226568Z",
     "iopub.status.idle": "2023-01-14T19:16:03.272360Z",
     "shell.execute_reply": "2023-01-14T19:16:03.271470Z"
    },
    "papermill": {
     "duration": 0.077944,
     "end_time": "2023-01-14T19:16:03.274916",
     "exception": false,
     "start_time": "2023-01-14T19:16:03.196972",
     "status": "completed"
    },
    "tags": []
   },
   "outputs": [
    {
     "data": {
      "text/plain": [
       "array([False])"
      ]
     },
     "execution_count": 41,
     "metadata": {},
     "output_type": "execute_result"
    }
   ],
   "source": [
    "a=data.loc[data[\"Indicator\"]==\"Took Prescription Medication for Mental Health, Last 4 Weeks\"].isin(data[\"Value\"])\n",
    "data.where(a, inplace=True)\n",
    "a[\"Indicator\"].unique()"
   ]
  },
  {
   "cell_type": "code",
   "execution_count": 42,
   "id": "319bedb6",
   "metadata": {
    "execution": {
     "iopub.execute_input": "2023-01-14T19:16:03.332218Z",
     "iopub.status.busy": "2023-01-14T19:16:03.331772Z",
     "iopub.status.idle": "2023-01-14T19:16:03.449124Z",
     "shell.execute_reply": "2023-01-14T19:16:03.447416Z"
    },
    "papermill": {
     "duration": 0.148964,
     "end_time": "2023-01-14T19:16:03.451454",
     "exception": true,
     "start_time": "2023-01-14T19:16:03.302490",
     "status": "failed"
    },
    "tags": []
   },
   "outputs": [
    {
     "ename": "NameError",
     "evalue": "name 'b' is not defined",
     "output_type": "error",
     "traceback": [
      "\u001b[0;31m---------------------------------------------------------------------------\u001b[0m",
      "\u001b[0;31mNameError\u001b[0m                                 Traceback (most recent call last)",
      "\u001b[0;32m/tmp/ipykernel_19/3215271389.py\u001b[0m in \u001b[0;36m<module>\u001b[0;34m\u001b[0m\n\u001b[0;32m----> 1\u001b[0;31m \u001b[0md\u001b[0m\u001b[0;34m=\u001b[0m\u001b[0mpd\u001b[0m\u001b[0;34m.\u001b[0m\u001b[0mSeries\u001b[0m\u001b[0;34m(\u001b[0m\u001b[0mb\u001b[0m\u001b[0;34m.\u001b[0m\u001b[0mgroupby\u001b[0m\u001b[0;34m)\u001b[0m\u001b[0;34m.\u001b[0m\u001b[0msum\u001b[0m\u001b[0;34m(\u001b[0m\u001b[0;34m)\u001b[0m\u001b[0;34m\u001b[0m\u001b[0;34m\u001b[0m\u001b[0m\n\u001b[0m\u001b[1;32m      2\u001b[0m \u001b[0md\u001b[0m\u001b[0;34m\u001b[0m\u001b[0;34m\u001b[0m\u001b[0m\n",
      "\u001b[0;31mNameError\u001b[0m: name 'b' is not defined"
     ]
    }
   ],
   "source": [
    "d=pd.Series(b.groupby).sum()\n",
    "d"
   ]
  },
  {
   "cell_type": "code",
   "execution_count": null,
   "id": "c76f9d9a",
   "metadata": {
    "execution": {
     "iopub.execute_input": "2022-11-02T10:13:54.440086Z",
     "iopub.status.busy": "2022-11-02T10:13:54.438507Z",
     "iopub.status.idle": "2022-11-02T10:13:54.452413Z",
     "shell.execute_reply": "2022-11-02T10:13:54.451026Z",
     "shell.execute_reply.started": "2022-11-02T10:13:54.440036Z"
    },
    "papermill": {
     "duration": null,
     "end_time": null,
     "exception": null,
     "start_time": null,
     "status": "pending"
    },
    "tags": []
   },
   "outputs": [],
   "source": [
    "b=data[\"Time Period\"]\n",
    "b"
   ]
  }
 ],
 "metadata": {
  "kernelspec": {
   "display_name": "Python 3",
   "language": "python",
   "name": "python3"
  },
  "language_info": {
   "codemirror_mode": {
    "name": "ipython",
    "version": 3
   },
   "file_extension": ".py",
   "mimetype": "text/x-python",
   "name": "python",
   "nbconvert_exporter": "python",
   "pygments_lexer": "ipython3",
   "version": "3.7.12"
  },
  "papermill": {
   "default_parameters": {},
   "duration": 18.580998,
   "end_time": "2023-01-14T19:16:04.505118",
   "environment_variables": {},
   "exception": true,
   "input_path": "__notebook__.ipynb",
   "output_path": "__notebook__.ipynb",
   "parameters": {},
   "start_time": "2023-01-14T19:15:45.924120",
   "version": "2.3.4"
  }
 },
 "nbformat": 4,
 "nbformat_minor": 5
}
